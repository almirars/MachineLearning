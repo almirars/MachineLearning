{
  "nbformat": 4,
  "nbformat_minor": 0,
  "metadata": {
    "colab": {
      "provenance": [],
      "collapsed_sections": [],
      "authorship_tag": "ABX9TyNhqcs/kli3gfBByY/XmiWL",
      "include_colab_link": true
    },
    "kernelspec": {
      "name": "python3",
      "display_name": "Python 3"
    },
    "language_info": {
      "name": "python"
    }
  },
  "cells": [
    {
      "cell_type": "markdown",
      "metadata": {
        "id": "view-in-github",
        "colab_type": "text"
      },
      "source": [
        "<a href=\"https://colab.research.google.com/github/almirars/MachineLearning/blob/main/KUIS.ipynb\" target=\"_parent\"><img src=\"https://colab.research.google.com/assets/colab-badge.svg\" alt=\"Open In Colab\"/></a>"
      ]
    },
    {
      "cell_type": "markdown",
      "source": [
        "* NIM : 2241727003\n",
        "* Nama : Almira Rahma Sabita\n",
        "* Kelas : 4J"
      ],
      "metadata": {
        "id": "pDj43S7tqH-k"
      }
    },
    {
      "cell_type": "code",
      "source": [
        "from google.colab import drive\n",
        "drive.mount('/content/drive')"
      ],
      "metadata": {
        "colab": {
          "base_uri": "https://localhost:8080/"
        },
        "id": "DdeN3yBJqF8-",
        "outputId": "a8d50a6a-d0e7-4708-edae-06c6cba90fb5"
      },
      "execution_count": 1,
      "outputs": [
        {
          "output_type": "stream",
          "name": "stdout",
          "text": [
            "Mounted at /content/drive\n"
          ]
        }
      ]
    },
    {
      "cell_type": "code",
      "source": [
        "# import package\n",
        "import numpy as np\n",
        "import pandas as pd"
      ],
      "metadata": {
        "id": "baMvye1Cqcsj"
      },
      "execution_count": 2,
      "outputs": []
    },
    {
      "cell_type": "code",
      "source": [
        "# baca data\n",
        "data = pd.read_csv('/content/drive/MyDrive/ML/world_population.csv')\n",
        "data.head()"
      ],
      "metadata": {
        "colab": {
          "base_uri": "https://localhost:8080/",
          "height": 340
        },
        "id": "fwEYDaKKqgNL",
        "outputId": "797bda2f-92af-428d-9ef8-28465e034710"
      },
      "execution_count": 3,
      "outputs": [
        {
          "output_type": "execute_result",
          "data": {
            "text/plain": [
              "   Rank CCA3         Country           Capital Continent  2022 Population  \\\n",
              "0    36  AFG     Afghanistan             Kabul      Asia         41128771   \n",
              "1   138  ALB         Albania            Tirana    Europe          2842321   \n",
              "2    34  DZA         Algeria           Algiers    Africa         44903225   \n",
              "3   213  ASM  American Samoa         Pago Pago   Oceania            44273   \n",
              "4   203  AND         Andorra  Andorra la Vella    Europe            79824   \n",
              "\n",
              "   2020 Population  2015 Population  2010 Population  2000 Population  \\\n",
              "0         38972230         33753499         28189672         19542982   \n",
              "1          2866849          2882481          2913399          3182021   \n",
              "2         43451666         39543154         35856344         30774621   \n",
              "3            46189            51368            54849            58230   \n",
              "4            77700            71746            71519            66097   \n",
              "\n",
              "   1990 Population  1980 Population  1970 Population  Area (km²)  \\\n",
              "0         10694796         12486631         10752971      652230   \n",
              "1          3295066          2941651          2324731       28748   \n",
              "2         25518074         18739378         13795915     2381741   \n",
              "3            47818            32886            27075         199   \n",
              "4            53569            35611            19860         468   \n",
              "\n",
              "   Density (per km²)  Growth Rate  World Population Percentage  \n",
              "0            63.0587       1.0257                         0.52  \n",
              "1            98.8702       0.9957                         0.04  \n",
              "2            18.8531       1.0164                         0.56  \n",
              "3           222.4774       0.9831                         0.00  \n",
              "4           170.5641       1.0100                         0.00  "
            ],
            "text/html": [
              "\n",
              "  <div id=\"df-0ae22f90-1bd9-496b-8913-b4b7a3eac0d1\">\n",
              "    <div class=\"colab-df-container\">\n",
              "      <div>\n",
              "<style scoped>\n",
              "    .dataframe tbody tr th:only-of-type {\n",
              "        vertical-align: middle;\n",
              "    }\n",
              "\n",
              "    .dataframe tbody tr th {\n",
              "        vertical-align: top;\n",
              "    }\n",
              "\n",
              "    .dataframe thead th {\n",
              "        text-align: right;\n",
              "    }\n",
              "</style>\n",
              "<table border=\"1\" class=\"dataframe\">\n",
              "  <thead>\n",
              "    <tr style=\"text-align: right;\">\n",
              "      <th></th>\n",
              "      <th>Rank</th>\n",
              "      <th>CCA3</th>\n",
              "      <th>Country</th>\n",
              "      <th>Capital</th>\n",
              "      <th>Continent</th>\n",
              "      <th>2022 Population</th>\n",
              "      <th>2020 Population</th>\n",
              "      <th>2015 Population</th>\n",
              "      <th>2010 Population</th>\n",
              "      <th>2000 Population</th>\n",
              "      <th>1990 Population</th>\n",
              "      <th>1980 Population</th>\n",
              "      <th>1970 Population</th>\n",
              "      <th>Area (km²)</th>\n",
              "      <th>Density (per km²)</th>\n",
              "      <th>Growth Rate</th>\n",
              "      <th>World Population Percentage</th>\n",
              "    </tr>\n",
              "  </thead>\n",
              "  <tbody>\n",
              "    <tr>\n",
              "      <th>0</th>\n",
              "      <td>36</td>\n",
              "      <td>AFG</td>\n",
              "      <td>Afghanistan</td>\n",
              "      <td>Kabul</td>\n",
              "      <td>Asia</td>\n",
              "      <td>41128771</td>\n",
              "      <td>38972230</td>\n",
              "      <td>33753499</td>\n",
              "      <td>28189672</td>\n",
              "      <td>19542982</td>\n",
              "      <td>10694796</td>\n",
              "      <td>12486631</td>\n",
              "      <td>10752971</td>\n",
              "      <td>652230</td>\n",
              "      <td>63.0587</td>\n",
              "      <td>1.0257</td>\n",
              "      <td>0.52</td>\n",
              "    </tr>\n",
              "    <tr>\n",
              "      <th>1</th>\n",
              "      <td>138</td>\n",
              "      <td>ALB</td>\n",
              "      <td>Albania</td>\n",
              "      <td>Tirana</td>\n",
              "      <td>Europe</td>\n",
              "      <td>2842321</td>\n",
              "      <td>2866849</td>\n",
              "      <td>2882481</td>\n",
              "      <td>2913399</td>\n",
              "      <td>3182021</td>\n",
              "      <td>3295066</td>\n",
              "      <td>2941651</td>\n",
              "      <td>2324731</td>\n",
              "      <td>28748</td>\n",
              "      <td>98.8702</td>\n",
              "      <td>0.9957</td>\n",
              "      <td>0.04</td>\n",
              "    </tr>\n",
              "    <tr>\n",
              "      <th>2</th>\n",
              "      <td>34</td>\n",
              "      <td>DZA</td>\n",
              "      <td>Algeria</td>\n",
              "      <td>Algiers</td>\n",
              "      <td>Africa</td>\n",
              "      <td>44903225</td>\n",
              "      <td>43451666</td>\n",
              "      <td>39543154</td>\n",
              "      <td>35856344</td>\n",
              "      <td>30774621</td>\n",
              "      <td>25518074</td>\n",
              "      <td>18739378</td>\n",
              "      <td>13795915</td>\n",
              "      <td>2381741</td>\n",
              "      <td>18.8531</td>\n",
              "      <td>1.0164</td>\n",
              "      <td>0.56</td>\n",
              "    </tr>\n",
              "    <tr>\n",
              "      <th>3</th>\n",
              "      <td>213</td>\n",
              "      <td>ASM</td>\n",
              "      <td>American Samoa</td>\n",
              "      <td>Pago Pago</td>\n",
              "      <td>Oceania</td>\n",
              "      <td>44273</td>\n",
              "      <td>46189</td>\n",
              "      <td>51368</td>\n",
              "      <td>54849</td>\n",
              "      <td>58230</td>\n",
              "      <td>47818</td>\n",
              "      <td>32886</td>\n",
              "      <td>27075</td>\n",
              "      <td>199</td>\n",
              "      <td>222.4774</td>\n",
              "      <td>0.9831</td>\n",
              "      <td>0.00</td>\n",
              "    </tr>\n",
              "    <tr>\n",
              "      <th>4</th>\n",
              "      <td>203</td>\n",
              "      <td>AND</td>\n",
              "      <td>Andorra</td>\n",
              "      <td>Andorra la Vella</td>\n",
              "      <td>Europe</td>\n",
              "      <td>79824</td>\n",
              "      <td>77700</td>\n",
              "      <td>71746</td>\n",
              "      <td>71519</td>\n",
              "      <td>66097</td>\n",
              "      <td>53569</td>\n",
              "      <td>35611</td>\n",
              "      <td>19860</td>\n",
              "      <td>468</td>\n",
              "      <td>170.5641</td>\n",
              "      <td>1.0100</td>\n",
              "      <td>0.00</td>\n",
              "    </tr>\n",
              "  </tbody>\n",
              "</table>\n",
              "</div>\n",
              "      <button class=\"colab-df-convert\" onclick=\"convertToInteractive('df-0ae22f90-1bd9-496b-8913-b4b7a3eac0d1')\"\n",
              "              title=\"Convert this dataframe to an interactive table.\"\n",
              "              style=\"display:none;\">\n",
              "        \n",
              "  <svg xmlns=\"http://www.w3.org/2000/svg\" height=\"24px\"viewBox=\"0 0 24 24\"\n",
              "       width=\"24px\">\n",
              "    <path d=\"M0 0h24v24H0V0z\" fill=\"none\"/>\n",
              "    <path d=\"M18.56 5.44l.94 2.06.94-2.06 2.06-.94-2.06-.94-.94-2.06-.94 2.06-2.06.94zm-11 1L8.5 8.5l.94-2.06 2.06-.94-2.06-.94L8.5 2.5l-.94 2.06-2.06.94zm10 10l.94 2.06.94-2.06 2.06-.94-2.06-.94-.94-2.06-.94 2.06-2.06.94z\"/><path d=\"M17.41 7.96l-1.37-1.37c-.4-.4-.92-.59-1.43-.59-.52 0-1.04.2-1.43.59L10.3 9.45l-7.72 7.72c-.78.78-.78 2.05 0 2.83L4 21.41c.39.39.9.59 1.41.59.51 0 1.02-.2 1.41-.59l7.78-7.78 2.81-2.81c.8-.78.8-2.07 0-2.86zM5.41 20L4 18.59l7.72-7.72 1.47 1.35L5.41 20z\"/>\n",
              "  </svg>\n",
              "      </button>\n",
              "      \n",
              "  <style>\n",
              "    .colab-df-container {\n",
              "      display:flex;\n",
              "      flex-wrap:wrap;\n",
              "      gap: 12px;\n",
              "    }\n",
              "\n",
              "    .colab-df-convert {\n",
              "      background-color: #E8F0FE;\n",
              "      border: none;\n",
              "      border-radius: 50%;\n",
              "      cursor: pointer;\n",
              "      display: none;\n",
              "      fill: #1967D2;\n",
              "      height: 32px;\n",
              "      padding: 0 0 0 0;\n",
              "      width: 32px;\n",
              "    }\n",
              "\n",
              "    .colab-df-convert:hover {\n",
              "      background-color: #E2EBFA;\n",
              "      box-shadow: 0px 1px 2px rgba(60, 64, 67, 0.3), 0px 1px 3px 1px rgba(60, 64, 67, 0.15);\n",
              "      fill: #174EA6;\n",
              "    }\n",
              "\n",
              "    [theme=dark] .colab-df-convert {\n",
              "      background-color: #3B4455;\n",
              "      fill: #D2E3FC;\n",
              "    }\n",
              "\n",
              "    [theme=dark] .colab-df-convert:hover {\n",
              "      background-color: #434B5C;\n",
              "      box-shadow: 0px 1px 3px 1px rgba(0, 0, 0, 0.15);\n",
              "      filter: drop-shadow(0px 1px 2px rgba(0, 0, 0, 0.3));\n",
              "      fill: #FFFFFF;\n",
              "    }\n",
              "  </style>\n",
              "\n",
              "      <script>\n",
              "        const buttonEl =\n",
              "          document.querySelector('#df-0ae22f90-1bd9-496b-8913-b4b7a3eac0d1 button.colab-df-convert');\n",
              "        buttonEl.style.display =\n",
              "          google.colab.kernel.accessAllowed ? 'block' : 'none';\n",
              "\n",
              "        async function convertToInteractive(key) {\n",
              "          const element = document.querySelector('#df-0ae22f90-1bd9-496b-8913-b4b7a3eac0d1');\n",
              "          const dataTable =\n",
              "            await google.colab.kernel.invokeFunction('convertToInteractive',\n",
              "                                                     [key], {});\n",
              "          if (!dataTable) return;\n",
              "\n",
              "          const docLinkHtml = 'Like what you see? Visit the ' +\n",
              "            '<a target=\"_blank\" href=https://colab.research.google.com/notebooks/data_table.ipynb>data table notebook</a>'\n",
              "            + ' to learn more about interactive tables.';\n",
              "          element.innerHTML = '';\n",
              "          dataTable['output_type'] = 'display_data';\n",
              "          await google.colab.output.renderOutput(dataTable, element);\n",
              "          const docLink = document.createElement('div');\n",
              "          docLink.innerHTML = docLinkHtml;\n",
              "          element.appendChild(docLink);\n",
              "        }\n",
              "      </script>\n",
              "    </div>\n",
              "  </div>\n",
              "  "
            ]
          },
          "metadata": {},
          "execution_count": 3
        }
      ]
    },
    {
      "cell_type": "code",
      "source": [
        "# pemahaman terhadap data\n",
        "# ukuran data\n",
        "data.shape\n",
        "\n",
        "# info data\n",
        "#data.info()\n",
        "\n",
        "# deskripsi data\n",
        "data.describe()"
      ],
      "metadata": {
        "colab": {
          "base_uri": "https://localhost:8080/",
          "height": 399
        },
        "id": "Dy7tQocsqo33",
        "outputId": "c6e9a4a1-677c-4eef-8ff2-3adfc75ec4dd"
      },
      "execution_count": 6,
      "outputs": [
        {
          "output_type": "execute_result",
          "data": {
            "text/plain": [
              "             Rank  2022 Population  2020 Population  2015 Population  \\\n",
              "count  234.000000     2.340000e+02     2.340000e+02     2.340000e+02   \n",
              "mean   117.500000     3.407441e+07     3.350107e+07     3.172996e+07   \n",
              "std     67.694165     1.367664e+08     1.355899e+08     1.304050e+08   \n",
              "min      1.000000     5.100000e+02     5.200000e+02     5.640000e+02   \n",
              "25%     59.250000     4.197385e+05     4.152845e+05     4.046760e+05   \n",
              "50%    117.500000     5.559944e+06     5.493074e+06     5.307400e+06   \n",
              "75%    175.750000     2.247650e+07     2.144798e+07     1.973085e+07   \n",
              "max    234.000000     1.425887e+09     1.424930e+09     1.393715e+09   \n",
              "\n",
              "       2010 Population  2000 Population  1990 Population  1980 Population  \\\n",
              "count     2.340000e+02     2.340000e+02     2.340000e+02     2.340000e+02   \n",
              "mean      2.984524e+07     2.626947e+07     2.271022e+07     1.898462e+07   \n",
              "std       1.242185e+08     1.116982e+08     9.783217e+07     8.178519e+07   \n",
              "min       5.960000e+02     6.510000e+02     7.000000e+02     7.330000e+02   \n",
              "25%       3.931490e+05     3.272420e+05     2.641158e+05     2.296142e+05   \n",
              "50%       4.942770e+06     4.292907e+06     3.825410e+06     3.141146e+06   \n",
              "75%       1.915957e+07     1.576230e+07     1.186923e+07     9.826054e+06   \n",
              "max       1.348191e+09     1.264099e+09     1.153704e+09     9.823725e+08   \n",
              "\n",
              "       1970 Population    Area (km²)  Density (per km²)  Growth Rate  \\\n",
              "count     2.340000e+02  2.340000e+02         234.000000   234.000000   \n",
              "mean      1.578691e+07  5.814494e+05         452.127044     1.009577   \n",
              "std       6.779509e+07  1.761841e+06        2066.121904     0.013385   \n",
              "min       7.520000e+02  1.000000e+00           0.026100     0.912000   \n",
              "25%       1.559970e+05  2.650000e+03          38.417875     1.001775   \n",
              "50%       2.604830e+06  8.119950e+04          95.346750     1.007900   \n",
              "75%       8.817329e+06  4.304258e+05         238.933250     1.016950   \n",
              "max       8.225344e+08  1.709824e+07       23172.266700     1.069100   \n",
              "\n",
              "       World Population Percentage  \n",
              "count                   234.000000  \n",
              "mean                      0.427051  \n",
              "std                       1.714977  \n",
              "min                       0.000000  \n",
              "25%                       0.010000  \n",
              "50%                       0.070000  \n",
              "75%                       0.280000  \n",
              "max                      17.880000  "
            ],
            "text/html": [
              "\n",
              "  <div id=\"df-e188d108-0628-4538-b656-061d1668676b\">\n",
              "    <div class=\"colab-df-container\">\n",
              "      <div>\n",
              "<style scoped>\n",
              "    .dataframe tbody tr th:only-of-type {\n",
              "        vertical-align: middle;\n",
              "    }\n",
              "\n",
              "    .dataframe tbody tr th {\n",
              "        vertical-align: top;\n",
              "    }\n",
              "\n",
              "    .dataframe thead th {\n",
              "        text-align: right;\n",
              "    }\n",
              "</style>\n",
              "<table border=\"1\" class=\"dataframe\">\n",
              "  <thead>\n",
              "    <tr style=\"text-align: right;\">\n",
              "      <th></th>\n",
              "      <th>Rank</th>\n",
              "      <th>2022 Population</th>\n",
              "      <th>2020 Population</th>\n",
              "      <th>2015 Population</th>\n",
              "      <th>2010 Population</th>\n",
              "      <th>2000 Population</th>\n",
              "      <th>1990 Population</th>\n",
              "      <th>1980 Population</th>\n",
              "      <th>1970 Population</th>\n",
              "      <th>Area (km²)</th>\n",
              "      <th>Density (per km²)</th>\n",
              "      <th>Growth Rate</th>\n",
              "      <th>World Population Percentage</th>\n",
              "    </tr>\n",
              "  </thead>\n",
              "  <tbody>\n",
              "    <tr>\n",
              "      <th>count</th>\n",
              "      <td>234.000000</td>\n",
              "      <td>2.340000e+02</td>\n",
              "      <td>2.340000e+02</td>\n",
              "      <td>2.340000e+02</td>\n",
              "      <td>2.340000e+02</td>\n",
              "      <td>2.340000e+02</td>\n",
              "      <td>2.340000e+02</td>\n",
              "      <td>2.340000e+02</td>\n",
              "      <td>2.340000e+02</td>\n",
              "      <td>2.340000e+02</td>\n",
              "      <td>234.000000</td>\n",
              "      <td>234.000000</td>\n",
              "      <td>234.000000</td>\n",
              "    </tr>\n",
              "    <tr>\n",
              "      <th>mean</th>\n",
              "      <td>117.500000</td>\n",
              "      <td>3.407441e+07</td>\n",
              "      <td>3.350107e+07</td>\n",
              "      <td>3.172996e+07</td>\n",
              "      <td>2.984524e+07</td>\n",
              "      <td>2.626947e+07</td>\n",
              "      <td>2.271022e+07</td>\n",
              "      <td>1.898462e+07</td>\n",
              "      <td>1.578691e+07</td>\n",
              "      <td>5.814494e+05</td>\n",
              "      <td>452.127044</td>\n",
              "      <td>1.009577</td>\n",
              "      <td>0.427051</td>\n",
              "    </tr>\n",
              "    <tr>\n",
              "      <th>std</th>\n",
              "      <td>67.694165</td>\n",
              "      <td>1.367664e+08</td>\n",
              "      <td>1.355899e+08</td>\n",
              "      <td>1.304050e+08</td>\n",
              "      <td>1.242185e+08</td>\n",
              "      <td>1.116982e+08</td>\n",
              "      <td>9.783217e+07</td>\n",
              "      <td>8.178519e+07</td>\n",
              "      <td>6.779509e+07</td>\n",
              "      <td>1.761841e+06</td>\n",
              "      <td>2066.121904</td>\n",
              "      <td>0.013385</td>\n",
              "      <td>1.714977</td>\n",
              "    </tr>\n",
              "    <tr>\n",
              "      <th>min</th>\n",
              "      <td>1.000000</td>\n",
              "      <td>5.100000e+02</td>\n",
              "      <td>5.200000e+02</td>\n",
              "      <td>5.640000e+02</td>\n",
              "      <td>5.960000e+02</td>\n",
              "      <td>6.510000e+02</td>\n",
              "      <td>7.000000e+02</td>\n",
              "      <td>7.330000e+02</td>\n",
              "      <td>7.520000e+02</td>\n",
              "      <td>1.000000e+00</td>\n",
              "      <td>0.026100</td>\n",
              "      <td>0.912000</td>\n",
              "      <td>0.000000</td>\n",
              "    </tr>\n",
              "    <tr>\n",
              "      <th>25%</th>\n",
              "      <td>59.250000</td>\n",
              "      <td>4.197385e+05</td>\n",
              "      <td>4.152845e+05</td>\n",
              "      <td>4.046760e+05</td>\n",
              "      <td>3.931490e+05</td>\n",
              "      <td>3.272420e+05</td>\n",
              "      <td>2.641158e+05</td>\n",
              "      <td>2.296142e+05</td>\n",
              "      <td>1.559970e+05</td>\n",
              "      <td>2.650000e+03</td>\n",
              "      <td>38.417875</td>\n",
              "      <td>1.001775</td>\n",
              "      <td>0.010000</td>\n",
              "    </tr>\n",
              "    <tr>\n",
              "      <th>50%</th>\n",
              "      <td>117.500000</td>\n",
              "      <td>5.559944e+06</td>\n",
              "      <td>5.493074e+06</td>\n",
              "      <td>5.307400e+06</td>\n",
              "      <td>4.942770e+06</td>\n",
              "      <td>4.292907e+06</td>\n",
              "      <td>3.825410e+06</td>\n",
              "      <td>3.141146e+06</td>\n",
              "      <td>2.604830e+06</td>\n",
              "      <td>8.119950e+04</td>\n",
              "      <td>95.346750</td>\n",
              "      <td>1.007900</td>\n",
              "      <td>0.070000</td>\n",
              "    </tr>\n",
              "    <tr>\n",
              "      <th>75%</th>\n",
              "      <td>175.750000</td>\n",
              "      <td>2.247650e+07</td>\n",
              "      <td>2.144798e+07</td>\n",
              "      <td>1.973085e+07</td>\n",
              "      <td>1.915957e+07</td>\n",
              "      <td>1.576230e+07</td>\n",
              "      <td>1.186923e+07</td>\n",
              "      <td>9.826054e+06</td>\n",
              "      <td>8.817329e+06</td>\n",
              "      <td>4.304258e+05</td>\n",
              "      <td>238.933250</td>\n",
              "      <td>1.016950</td>\n",
              "      <td>0.280000</td>\n",
              "    </tr>\n",
              "    <tr>\n",
              "      <th>max</th>\n",
              "      <td>234.000000</td>\n",
              "      <td>1.425887e+09</td>\n",
              "      <td>1.424930e+09</td>\n",
              "      <td>1.393715e+09</td>\n",
              "      <td>1.348191e+09</td>\n",
              "      <td>1.264099e+09</td>\n",
              "      <td>1.153704e+09</td>\n",
              "      <td>9.823725e+08</td>\n",
              "      <td>8.225344e+08</td>\n",
              "      <td>1.709824e+07</td>\n",
              "      <td>23172.266700</td>\n",
              "      <td>1.069100</td>\n",
              "      <td>17.880000</td>\n",
              "    </tr>\n",
              "  </tbody>\n",
              "</table>\n",
              "</div>\n",
              "      <button class=\"colab-df-convert\" onclick=\"convertToInteractive('df-e188d108-0628-4538-b656-061d1668676b')\"\n",
              "              title=\"Convert this dataframe to an interactive table.\"\n",
              "              style=\"display:none;\">\n",
              "        \n",
              "  <svg xmlns=\"http://www.w3.org/2000/svg\" height=\"24px\"viewBox=\"0 0 24 24\"\n",
              "       width=\"24px\">\n",
              "    <path d=\"M0 0h24v24H0V0z\" fill=\"none\"/>\n",
              "    <path d=\"M18.56 5.44l.94 2.06.94-2.06 2.06-.94-2.06-.94-.94-2.06-.94 2.06-2.06.94zm-11 1L8.5 8.5l.94-2.06 2.06-.94-2.06-.94L8.5 2.5l-.94 2.06-2.06.94zm10 10l.94 2.06.94-2.06 2.06-.94-2.06-.94-.94-2.06-.94 2.06-2.06.94z\"/><path d=\"M17.41 7.96l-1.37-1.37c-.4-.4-.92-.59-1.43-.59-.52 0-1.04.2-1.43.59L10.3 9.45l-7.72 7.72c-.78.78-.78 2.05 0 2.83L4 21.41c.39.39.9.59 1.41.59.51 0 1.02-.2 1.41-.59l7.78-7.78 2.81-2.81c.8-.78.8-2.07 0-2.86zM5.41 20L4 18.59l7.72-7.72 1.47 1.35L5.41 20z\"/>\n",
              "  </svg>\n",
              "      </button>\n",
              "      \n",
              "  <style>\n",
              "    .colab-df-container {\n",
              "      display:flex;\n",
              "      flex-wrap:wrap;\n",
              "      gap: 12px;\n",
              "    }\n",
              "\n",
              "    .colab-df-convert {\n",
              "      background-color: #E8F0FE;\n",
              "      border: none;\n",
              "      border-radius: 50%;\n",
              "      cursor: pointer;\n",
              "      display: none;\n",
              "      fill: #1967D2;\n",
              "      height: 32px;\n",
              "      padding: 0 0 0 0;\n",
              "      width: 32px;\n",
              "    }\n",
              "\n",
              "    .colab-df-convert:hover {\n",
              "      background-color: #E2EBFA;\n",
              "      box-shadow: 0px 1px 2px rgba(60, 64, 67, 0.3), 0px 1px 3px 1px rgba(60, 64, 67, 0.15);\n",
              "      fill: #174EA6;\n",
              "    }\n",
              "\n",
              "    [theme=dark] .colab-df-convert {\n",
              "      background-color: #3B4455;\n",
              "      fill: #D2E3FC;\n",
              "    }\n",
              "\n",
              "    [theme=dark] .colab-df-convert:hover {\n",
              "      background-color: #434B5C;\n",
              "      box-shadow: 0px 1px 3px 1px rgba(0, 0, 0, 0.15);\n",
              "      filter: drop-shadow(0px 1px 2px rgba(0, 0, 0, 0.3));\n",
              "      fill: #FFFFFF;\n",
              "    }\n",
              "  </style>\n",
              "\n",
              "      <script>\n",
              "        const buttonEl =\n",
              "          document.querySelector('#df-e188d108-0628-4538-b656-061d1668676b button.colab-df-convert');\n",
              "        buttonEl.style.display =\n",
              "          google.colab.kernel.accessAllowed ? 'block' : 'none';\n",
              "\n",
              "        async function convertToInteractive(key) {\n",
              "          const element = document.querySelector('#df-e188d108-0628-4538-b656-061d1668676b');\n",
              "          const dataTable =\n",
              "            await google.colab.kernel.invokeFunction('convertToInteractive',\n",
              "                                                     [key], {});\n",
              "          if (!dataTable) return;\n",
              "\n",
              "          const docLinkHtml = 'Like what you see? Visit the ' +\n",
              "            '<a target=\"_blank\" href=https://colab.research.google.com/notebooks/data_table.ipynb>data table notebook</a>'\n",
              "            + ' to learn more about interactive tables.';\n",
              "          element.innerHTML = '';\n",
              "          dataTable['output_type'] = 'display_data';\n",
              "          await google.colab.output.renderOutput(dataTable, element);\n",
              "          const docLink = document.createElement('div');\n",
              "          docLink.innerHTML = docLinkHtml;\n",
              "          element.appendChild(docLink);\n",
              "        }\n",
              "      </script>\n",
              "    </div>\n",
              "  </div>\n",
              "  "
            ]
          },
          "metadata": {},
          "execution_count": 6
        }
      ]
    },
    {
      "cell_type": "code",
      "source": [
        "# import library untuk visualisasi\n",
        "import matplotlib.pyplot as plt \n",
        "import seaborn as sns"
      ],
      "metadata": {
        "id": "9h491kqVqo9f"
      },
      "execution_count": 7,
      "outputs": []
    },
    {
      "cell_type": "code",
      "source": [
        "# operasi visualisasi\n",
        "sns.pairplot(data, x_vars=['2022 Population', 'Area (km²)', 'Growth Rate'], \n",
        "             y_vars='World Population Percentage', height=4, aspect=1, kind='scatter')\n",
        "plt.show()"
      ],
      "metadata": {
        "colab": {
          "base_uri": "https://localhost:8080/",
          "height": 303
        },
        "id": "7oJ-EkUcqxLA",
        "outputId": "db457ffa-70ce-47de-b7f7-56642f0d1e79"
      },
      "execution_count": 12,
      "outputs": [
        {
          "output_type": "display_data",
          "data": {
            "text/plain": [
              "<Figure size 864x288 with 3 Axes>"
            ],
            "image/png": "[encoded data removed]"
          },
          "metadata": {
            "needs_background": "light"
          }
        }
      ]
    },
    {
      "cell_type": "code",
      "source": [
        "sns.heatmap(data.corr(), cmap=\"YlGnBu\", annot = True)\n",
        "plt.show()"
      ],
      "metadata": {
        "colab": {
          "base_uri": "https://localhost:8080/",
          "height": 403
        },
        "id": "MC-5pA4JsL08",
        "outputId": "d3fc2a31-fe8d-4ab0-9f58-99e45dd4a894"
      },
      "execution_count": 13,
      "outputs": [
        {
          "output_type": "display_data",
          "data": {
            "text/plain": [
              "<Figure size 432x288 with 2 Axes>"
            ],
            "image/png": "[encoded data removed]"
          },
          "metadata": {
            "needs_background": "light"
          }
        }
      ]
    },
    {
      "cell_type": "code",
      "source": [
        "# Buat variabel bebas X dan Y, sebagai contoh ambil dari hasil analisis korelasi dari kegaitan sebelumnya\n",
        "X = data['2022 Population']\n",
        "y = data['Area (km²)']"
      ],
      "metadata": {
        "id": "3a-dBY3psN-l"
      },
      "execution_count": 16,
      "outputs": []
    },
    {
      "cell_type": "code",
      "source": [
        "# Buat pemisahan data uji dan data latih dengan proporsi 7:3\n",
        "from sklearn.model_selection import train_test_split\n",
        "X_train, X_test, y_train, y_test = train_test_split(X, y, train_size = 0.7, \n",
        "                                                    test_size = 0.3, random_state = 100)"
      ],
      "metadata": {
        "id": "Og2FWl6cs6o7"
      },
      "execution_count": 17,
      "outputs": []
    },
    {
      "cell_type": "code",
      "source": [
        "# hasil training dtaset\n",
        "X_train\n",
        "y_train"
      ],
      "metadata": {
        "colab": {
          "base_uri": "https://localhost:8080/"
        },
        "id": "WQw6kI3Ls-CP",
        "outputId": "27952eb3-5e8c-4d7e-e46b-81302306228a"
      },
      "execution_count": 18,
      "outputs": [
        {
          "output_type": "execute_result",
          "data": {
            "text/plain": [
              "189      49037\n",
              "7          442\n",
              "28         151\n",
              "140     676578\n",
              "124    1240192\n",
              "        ...   \n",
              "87       27750\n",
              "103        116\n",
              "67      338424\n",
              "24     1098581\n",
              "8      2780400\n",
              "Name: Area (km²), Length: 163, dtype: int64"
            ]
          },
          "metadata": {},
          "execution_count": 18
        }
      ]
    },
    {
      "cell_type": "code",
      "source": [
        "# training model\n",
        "import statsmodels.api as sm\n",
        "\n",
        "X_train_sm = sm.add_constant(X_train)"
      ],
      "metadata": {
        "id": "xXAvqen3tAnz"
      },
      "execution_count": 20,
      "outputs": []
    },
    {
      "cell_type": "code",
      "source": [
        "# fitting garis regresi\n",
        "lr = sm.OLS(y_train, X_train_sm).fit()\n",
        "lr.params"
      ],
      "metadata": {
        "colab": {
          "base_uri": "https://localhost:8080/"
        },
        "id": "aPJ1yj8YtFHT",
        "outputId": "19902759-0534-4b16-f2ec-fbc5b9f4f3bf"
      },
      "execution_count": 21,
      "outputs": [
        {
          "output_type": "execute_result",
          "data": {
            "text/plain": [
              "const              475262.405748\n",
              "2022 Population         0.005182\n",
              "dtype: float64"
            ]
          },
          "metadata": {},
          "execution_count": 21
        }
      ]
    },
    {
      "cell_type": "code",
      "source": [
        "# analisis statistika dari garis regresi\n",
        "lr.summary()"
      ],
      "metadata": {
        "colab": {
          "base_uri": "https://localhost:8080/",
          "height": 486
        },
        "id": "aBx3pxw1tH9Y",
        "outputId": "25559896-8210-4f43-d4bf-b5544a81879f"
      },
      "execution_count": 22,
      "outputs": [
        {
          "output_type": "execute_result",
          "data": {
            "text/plain": [
              "<class 'statsmodels.iolib.summary.Summary'>\n",
              "\"\"\"\n",
              "                            OLS Regression Results                            \n",
              "==============================================================================\n",
              "Dep. Variable:             Area (km²)   R-squared:                       0.109\n",
              "Model:                            OLS   Adj. R-squared:                  0.104\n",
              "Method:                 Least Squares   F-statistic:                     19.73\n",
              "Date:                Wed, 21 Sep 2022   Prob (F-statistic):           1.66e-05\n",
              "Time:                        06:20:33   Log-Likelihood:                -2575.9\n",
              "No. Observations:                 163   AIC:                             5156.\n",
              "Df Residuals:                     161   BIC:                             5162.\n",
              "Df Model:                           1                                         \n",
              "Covariance Type:            nonrobust                                         \n",
              "===================================================================================\n",
              "                      coef    std err          t      P>|t|      [0.025      0.975]\n",
              "-----------------------------------------------------------------------------------\n",
              "const            4.753e+05   1.44e+05      3.299      0.001    1.91e+05     7.6e+05\n",
              "2022 Population     0.0052      0.001      4.441      0.000       0.003       0.007\n",
              "==============================================================================\n",
              "Omnibus:                      232.793   Durbin-Watson:                   2.085\n",
              "Prob(Omnibus):                  0.000   Jarque-Bera (JB):            14880.377\n",
              "Skew:                           6.056   Prob(JB):                         0.00\n",
              "Kurtosis:                      48.213   Cond. No.                     1.28e+08\n",
              "==============================================================================\n",
              "\n",
              "Notes:\n",
              "[1] Standard Errors assume that the covariance matrix of the errors is correctly specified.\n",
              "[2] The condition number is large, 1.28e+08. This might indicate that there are\n",
              "strong multicollinearity or other numerical problems.\n",
              "\"\"\""
            ],
            "text/html": [
              "<table class=\"simpletable\">\n",
              "<caption>OLS Regression Results</caption>\n",
              "<tr>\n",
              "  <th>Dep. Variable:</th>       <td>Area (km²)</td>    <th>  R-squared:         </th> <td>   0.109</td>\n",
              "</tr>\n",
              "<tr>\n",
              "  <th>Model:</th>                   <td>OLS</td>       <th>  Adj. R-squared:    </th> <td>   0.104</td>\n",
              "</tr>\n",
              "<tr>\n",
              "  <th>Method:</th>             <td>Least Squares</td>  <th>  F-statistic:       </th> <td>   19.73</td>\n",
              "</tr>\n",
              "<tr>\n",
              "  <th>Date:</th>             <td>Wed, 21 Sep 2022</td> <th>  Prob (F-statistic):</th> <td>1.66e-05</td>\n",
              "</tr>\n",
              "<tr>\n",
              "  <th>Time:</th>                 <td>06:20:33</td>     <th>  Log-Likelihood:    </th> <td> -2575.9</td>\n",
              "</tr>\n",
              "<tr>\n",
              "  <th>No. Observations:</th>      <td>   163</td>      <th>  AIC:               </th> <td>   5156.</td>\n",
              "</tr>\n",
              "<tr>\n",
              "  <th>Df Residuals:</th>          <td>   161</td>      <th>  BIC:               </th> <td>   5162.</td>\n",
              "</tr>\n",
              "<tr>\n",
              "  <th>Df Model:</th>              <td>     1</td>      <th>                     </th>     <td> </td>   \n",
              "</tr>\n",
              "<tr>\n",
              "  <th>Covariance Type:</th>      <td>nonrobust</td>    <th>                     </th>     <td> </td>   \n",
              "</tr>\n",
              "</table>\n",
              "<table class=\"simpletable\">\n",
              "<tr>\n",
              "         <td></td>            <th>coef</th>     <th>std err</th>      <th>t</th>      <th>P>|t|</th>  <th>[0.025</th>    <th>0.975]</th>  \n",
              "</tr>\n",
              "<tr>\n",
              "  <th>const</th>           <td> 4.753e+05</td> <td> 1.44e+05</td> <td>    3.299</td> <td> 0.001</td> <td> 1.91e+05</td> <td>  7.6e+05</td>\n",
              "</tr>\n",
              "<tr>\n",
              "  <th>2022 Population</th> <td>    0.0052</td> <td>    0.001</td> <td>    4.441</td> <td> 0.000</td> <td>    0.003</td> <td>    0.007</td>\n",
              "</tr>\n",
              "</table>\n",
              "<table class=\"simpletable\">\n",
              "<tr>\n",
              "  <th>Omnibus:</th>       <td>232.793</td> <th>  Durbin-Watson:     </th> <td>   2.085</td> \n",
              "</tr>\n",
              "<tr>\n",
              "  <th>Prob(Omnibus):</th> <td> 0.000</td>  <th>  Jarque-Bera (JB):  </th> <td>14880.377</td>\n",
              "</tr>\n",
              "<tr>\n",
              "  <th>Skew:</th>          <td> 6.056</td>  <th>  Prob(JB):          </th> <td>    0.00</td> \n",
              "</tr>\n",
              "<tr>\n",
              "  <th>Kurtosis:</th>      <td>48.213</td>  <th>  Cond. No.          </th> <td>1.28e+08</td> \n",
              "</tr>\n",
              "</table><br/><br/>Notes:<br/>[1] Standard Errors assume that the covariance matrix of the errors is correctly specified.<br/>[2] The condition number is large, 1.28e+08. This might indicate that there are<br/>strong multicollinearity or other numerical problems."
            ]
          },
          "metadata": {},
          "execution_count": 22
        }
      ]
    },
    {
      "cell_type": "code",
      "source": [
        "# visualisasi garis regresi\n",
        "plt.scatter(X_train, y_train)\n",
        "plt.plot(X_train, 265.2483 + 66.3015*X_train, 'r')\n",
        "plt.show()"
      ],
      "metadata": {
        "colab": {
          "base_uri": "https://localhost:8080/",
          "height": 289
        },
        "id": "piCxwy_5tK46",
        "outputId": "76d19de8-19a5-4c94-da19-0636141140f5"
      },
      "execution_count": 23,
      "outputs": [
        {
          "output_type": "display_data",
          "data": {
            "text/plain": [
              "<Figure size 432x288 with 1 Axes>"
            ],
            "image/png": "[encoded data removed]"
          },
          "metadata": {
            "needs_background": "light"
          }
        }
      ]
    },
    {
      "cell_type": "markdown",
      "source": [
        "\n",
        "RESIDUAL ANALISIS"
      ],
      "metadata": {
        "id": "xWHcRqF2tPWe"
      }
    },
    {
      "cell_type": "code",
      "source": [
        "# prediksi y_value dari data x yang telah dilatih\n",
        "y_train_pred = lr.predict(X_train_sm)\n",
        "\n",
        "res = (y_train - y_train_pred)"
      ],
      "metadata": {
        "id": "oSJKy2PatP73"
      },
      "execution_count": 24,
      "outputs": []
    },
    {
      "cell_type": "code",
      "source": [
        "# cek histogram apakah berdistribusi normal atau tidak\n",
        "fig = plt.figure()\n",
        "sns.distplot(res, bins = 15)\n",
        "plt.title('Error Terms', fontsize = 15)\n",
        "plt.xlabel('y_train - y_train_pred', fontsize = 15)\n",
        "plt.show()"
      ],
      "metadata": {
        "colab": {
          "base_uri": "https://localhost:8080/",
          "height": 359
        },
        "id": "5-4k-uA9tTax",
        "outputId": "0bf53b90-ad04-4bca-b16a-e6129a5c1428"
      },
      "execution_count": 25,
      "outputs": [
        {
          "output_type": "stream",
          "name": "stderr",
          "text": [
            "/usr/local/lib/python3.7/dist-packages/seaborn/distributions.py:2619: FutureWarning: `distplot` is a deprecated function and will be removed in a future version. Please adapt your code to use either `displot` (a figure-level function with similar flexibility) or `histplot` (an axes-level function for histograms).\n",
            "  warnings.warn(msg, FutureWarning)\n"
          ]
        },
        {
          "output_type": "display_data",
          "data": {
            "text/plain": [
              "<Figure size 432x288 with 1 Axes>"
            ],
            "image/png": "[encoded data removed]"
          },
          "metadata": {
            "needs_background": "light"
          }
        }
      ]
    },
    {
      "cell_type": "code",
      "source": [
        "plt.scatter(X_train,res)\n",
        "plt.show()"
      ],
      "metadata": {
        "colab": {
          "base_uri": "https://localhost:8080/",
          "height": 289
        },
        "id": "tQSI1H8RtV4I",
        "outputId": "e6273935-0fad-4163-936d-75c416a0ec46"
      },
      "execution_count": 26,
      "outputs": [
        {
          "output_type": "display_data",
          "data": {
            "text/plain": [
              "<Figure size 432x288 with 1 Axes>"
            ],
            "image/png": "[encoded data removed]"
          },
          "metadata": {
            "needs_background": "light"
          }
        }
      ]
    },
    {
      "cell_type": "code",
      "source": [
        "# prediksi pada data uji dan evaluasi model\n",
        "X_test_sm = sm.add_constant(X_test)\n",
        "\n",
        "# prediksi y value yang berkorelasi dengan X_test_sm\n",
        "y_test_pred = lr.predict(X_test_sm)\n",
        "\n",
        "# cetak 5 data terprediksi teratas\n",
        "y_test_pred.head()"
      ],
      "metadata": {
        "colab": {
          "base_uri": "https://localhost:8080/"
        },
        "id": "Og8eFOWitYOO",
        "outputId": "7659a877-2fee-40b6-bf3a-97c4ef9f08c0"
      },
      "execution_count": 28,
      "outputs": [
        {
          "output_type": "execute_result",
          "data": {
            "text/plain": [
              "178    475801.115149\n",
              "228    984114.739501\n",
              "202    589926.272656\n",
              "152    486112.460231\n",
              "48     476253.105956\n",
              "dtype: float64"
            ]
          },
          "metadata": {},
          "execution_count": 28
        }
      ]
    },
    {
      "cell_type": "code",
      "source": [
        "# hitung nilai r^2\n",
        "from sklearn.metrics import r2_score\n",
        "\n",
        "r_squared = r2_score(y_test, y_test_pred)\n",
        "r_squared"
      ],
      "metadata": {
        "colab": {
          "base_uri": "https://localhost:8080/"
        },
        "id": "r7k75COqtbth",
        "outputId": "2251945d-4f4c-43ef-e2d1-5f201eaeebb2"
      },
      "execution_count": 29,
      "outputs": [
        {
          "output_type": "execute_result",
          "data": {
            "text/plain": [
              "0.5400730793606829"
            ]
          },
          "metadata": {},
          "execution_count": 29
        }
      ]
    },
    {
      "cell_type": "code",
      "source": [
        "# visualisasi data\n",
        "plt.scatter(X_test, y_test)\n",
        "plt.plot(X_test, y_test_pred, 'r')\n",
        "plt.show()"
      ],
      "metadata": {
        "colab": {
          "base_uri": "https://localhost:8080/",
          "height": 289
        },
        "id": "idhz2dBPtd6-",
        "outputId": "dfd5dc8e-22d6-4ab2-8c54-1a90e84807be"
      },
      "execution_count": 30,
      "outputs": [
        {
          "output_type": "display_data",
          "data": {
            "text/plain": [
              "<Figure size 432x288 with 1 Axes>"
            ],
            "image/png": "[encoded data removed]"
          },
          "metadata": {
            "needs_background": "light"
          }
        }
      ]
    }
  ]
}