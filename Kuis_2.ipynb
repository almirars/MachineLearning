{
  "nbformat": 4,
  "nbformat_minor": 0,
  "metadata": {
    "colab": {
      "provenance": [],
      "authorship_tag": "ABX9TyMu9FndktLszU5exFjFj/pa",
      "include_colab_link": true
    },
    "kernelspec": {
      "name": "python3",
      "display_name": "Python 3"
    },
    "language_info": {
      "name": "python"
    }
  },
  "cells": [
    {
      "cell_type": "markdown",
      "metadata": {
        "id": "view-in-github",
        "colab_type": "text"
      },
      "source": [
        "<a href=\"https://colab.research.google.com/github/almirars/MachineLearning/blob/main/Kuis_2.ipynb\" target=\"_parent\"><img src=\"https://colab.research.google.com/assets/colab-badge.svg\" alt=\"Open In Colab\"/></a>"
      ]
    },
    {
      "cell_type": "markdown",
      "source": [
        "- NIM  : 2241727003\n",
        "- Nama : Almira Rahma Sabita\n",
        "- Kelas :  TI 4J"
      ],
      "metadata": {
        "id": "NZ5qzmGsL28K"
      }
    },
    {
      "cell_type": "code",
      "execution_count": null,
      "metadata": {
        "id": "YJJbvsVmLsLD"
      },
      "outputs": [],
      "source": [
        "import numpy as np\n",
        "import pandas as pd\n",
        "import matplotlib.pyplot as plt\n",
        "from sklearn.tree import DecisionTreeClassifier\n",
        "from sklearn.ensemble import RandomForestClassifier\n",
        "from sklearn.model_selection import train_test_split\n",
        "from sklearn.metrics import accuracy_score, classification_report"
      ]
    },
    {
      "cell_type": "code",
      "source": [
        "from google.colab import drive\n",
        "drive.mount('/content/drive')"
      ],
      "metadata": {
        "colab": {
          "base_uri": "https://localhost:8080/"
        },
        "id": "-j_N_cr9L7-s",
        "outputId": "312fd9dd-65be-4aa5-9b7f-8312231d6d46"
      },
      "execution_count": null,
      "outputs": [
        {
          "output_type": "stream",
          "name": "stdout",
          "text": [
            "Mounted at /content/drive\n"
          ]
        }
      ]
    },
    {
      "cell_type": "code",
      "source": [
        "data = pd.read_csv('/content/drive/MyDrive/ML/dataset_quiz.csv')\n",
        "\n",
        "data.head()"
      ],
      "metadata": {
        "colab": {
          "base_uri": "https://localhost:8080/",
          "height": 270
        },
        "id": "PWmytIZdL5JJ",
        "outputId": "b5bc3f5b-7ca0-4b5b-acdf-e2b6a9d258ea"
      },
      "execution_count": null,
      "outputs": [
        {
          "output_type": "execute_result",
          "data": {
            "text/plain": [
              "  id_ketua  id_anggota1  id_anggota2  id_anggota3  id_anggota4  id_anggota5  \\\n",
              "0     7206       7214.0       6211.0       8602.0       7801.0          NaN   \n",
              "1     7214       7109.0       8402.0       7903.0       9202.0          NaN   \n",
              "2     5911       8201.0       8701.0       9101.0       9003.0          NaN   \n",
              "3     8402       7702.0       8602.0       8903.0       8903.0          NaN   \n",
              "4     8201       8305.0       5911.0       5903.0       8402.0          NaN   \n",
              "\n",
              "  keterlibatan_vltr  jml_vltr_terlibat   tahun    skema luaran_hki  \\\n",
              "0             TIDAK                0.0  2019.0  REGULER  TIDAK ADA   \n",
              "1             TIDAK                0.0  2019.0  REGULER  TIDAK ADA   \n",
              "2             TIDAK                0.0  2019.0  REGULER  TIDAK ADA   \n",
              "3             TIDAK                0.0  2019.0  REGULER  TIDAK ADA   \n",
              "4             TIDAK                0.0  2019.0  REGULER  TIDAK ADA   \n",
              "\n",
              "  jenis_luaran_hki potensi_hki luaran_lain jenis_luaran_lain  \\\n",
              "0        TIDAK ADA       TIDAK   TIDAK ADA         TIDAK ADA   \n",
              "1        TIDAK ADA       TIDAK   TIDAK ADA         TIDAK ADA   \n",
              "2        TIDAK ADA       TIDAK   TIDAK ADA         TIDAK ADA   \n",
              "3        TIDAK ADA       TIDAK   TIDAK ADA         TIDAK ADA   \n",
              "4        TIDAK ADA       TIDAK   TIDAK ADA         TIDAK ADA   \n",
              "\n",
              "  status_luaran_lain;;;;;;;;;;;;;;;;;;;;;;;;;  \n",
              "0          TIDAK ADA;;;;;;;;;;;;;;;;;;;;;;;;;  \n",
              "1          TIDAK ADA;;;;;;;;;;;;;;;;;;;;;;;;;  \n",
              "2          TIDAK ADA;;;;;;;;;;;;;;;;;;;;;;;;;  \n",
              "3          TIDAK ADA;;;;;;;;;;;;;;;;;;;;;;;;;  \n",
              "4          TIDAK ADA;;;;;;;;;;;;;;;;;;;;;;;;;  "
            ],
            "text/html": [
              "\n",
              "  <div id=\"df-7fd1685c-de3b-4ae0-8888-4dd54ea190af\">\n",
              "    <div class=\"colab-df-container\">\n",
              "      <div>\n",
              "<style scoped>\n",
              "    .dataframe tbody tr th:only-of-type {\n",
              "        vertical-align: middle;\n",
              "    }\n",
              "\n",
              "    .dataframe tbody tr th {\n",
              "        vertical-align: top;\n",
              "    }\n",
              "\n",
              "    .dataframe thead th {\n",
              "        text-align: right;\n",
              "    }\n",
              "</style>\n",
              "<table border=\"1\" class=\"dataframe\">\n",
              "  <thead>\n",
              "    <tr style=\"text-align: right;\">\n",
              "      <th></th>\n",
              "      <th>id_ketua</th>\n",
              "      <th>id_anggota1</th>\n",
              "      <th>id_anggota2</th>\n",
              "      <th>id_anggota3</th>\n",
              "      <th>id_anggota4</th>\n",
              "      <th>id_anggota5</th>\n",
              "      <th>keterlibatan_vltr</th>\n",
              "      <th>jml_vltr_terlibat</th>\n",
              "      <th>tahun</th>\n",
              "      <th>skema</th>\n",
              "      <th>luaran_hki</th>\n",
              "      <th>jenis_luaran_hki</th>\n",
              "      <th>potensi_hki</th>\n",
              "      <th>luaran_lain</th>\n",
              "      <th>jenis_luaran_lain</th>\n",
              "      <th>status_luaran_lain;;;;;;;;;;;;;;;;;;;;;;;;;</th>\n",
              "    </tr>\n",
              "  </thead>\n",
              "  <tbody>\n",
              "    <tr>\n",
              "      <th>0</th>\n",
              "      <td>7206</td>\n",
              "      <td>7214.0</td>\n",
              "      <td>6211.0</td>\n",
              "      <td>8602.0</td>\n",
              "      <td>7801.0</td>\n",
              "      <td>NaN</td>\n",
              "      <td>TIDAK</td>\n",
              "      <td>0.0</td>\n",
              "      <td>2019.0</td>\n",
              "      <td>REGULER</td>\n",
              "      <td>TIDAK ADA</td>\n",
              "      <td>TIDAK ADA</td>\n",
              "      <td>TIDAK</td>\n",
              "      <td>TIDAK ADA</td>\n",
              "      <td>TIDAK ADA</td>\n",
              "      <td>TIDAK ADA;;;;;;;;;;;;;;;;;;;;;;;;;</td>\n",
              "    </tr>\n",
              "    <tr>\n",
              "      <th>1</th>\n",
              "      <td>7214</td>\n",
              "      <td>7109.0</td>\n",
              "      <td>8402.0</td>\n",
              "      <td>7903.0</td>\n",
              "      <td>9202.0</td>\n",
              "      <td>NaN</td>\n",
              "      <td>TIDAK</td>\n",
              "      <td>0.0</td>\n",
              "      <td>2019.0</td>\n",
              "      <td>REGULER</td>\n",
              "      <td>TIDAK ADA</td>\n",
              "      <td>TIDAK ADA</td>\n",
              "      <td>TIDAK</td>\n",
              "      <td>TIDAK ADA</td>\n",
              "      <td>TIDAK ADA</td>\n",
              "      <td>TIDAK ADA;;;;;;;;;;;;;;;;;;;;;;;;;</td>\n",
              "    </tr>\n",
              "    <tr>\n",
              "      <th>2</th>\n",
              "      <td>5911</td>\n",
              "      <td>8201.0</td>\n",
              "      <td>8701.0</td>\n",
              "      <td>9101.0</td>\n",
              "      <td>9003.0</td>\n",
              "      <td>NaN</td>\n",
              "      <td>TIDAK</td>\n",
              "      <td>0.0</td>\n",
              "      <td>2019.0</td>\n",
              "      <td>REGULER</td>\n",
              "      <td>TIDAK ADA</td>\n",
              "      <td>TIDAK ADA</td>\n",
              "      <td>TIDAK</td>\n",
              "      <td>TIDAK ADA</td>\n",
              "      <td>TIDAK ADA</td>\n",
              "      <td>TIDAK ADA;;;;;;;;;;;;;;;;;;;;;;;;;</td>\n",
              "    </tr>\n",
              "    <tr>\n",
              "      <th>3</th>\n",
              "      <td>8402</td>\n",
              "      <td>7702.0</td>\n",
              "      <td>8602.0</td>\n",
              "      <td>8903.0</td>\n",
              "      <td>8903.0</td>\n",
              "      <td>NaN</td>\n",
              "      <td>TIDAK</td>\n",
              "      <td>0.0</td>\n",
              "      <td>2019.0</td>\n",
              "      <td>REGULER</td>\n",
              "      <td>TIDAK ADA</td>\n",
              "      <td>TIDAK ADA</td>\n",
              "      <td>TIDAK</td>\n",
              "      <td>TIDAK ADA</td>\n",
              "      <td>TIDAK ADA</td>\n",
              "      <td>TIDAK ADA;;;;;;;;;;;;;;;;;;;;;;;;;</td>\n",
              "    </tr>\n",
              "    <tr>\n",
              "      <th>4</th>\n",
              "      <td>8201</td>\n",
              "      <td>8305.0</td>\n",
              "      <td>5911.0</td>\n",
              "      <td>5903.0</td>\n",
              "      <td>8402.0</td>\n",
              "      <td>NaN</td>\n",
              "      <td>TIDAK</td>\n",
              "      <td>0.0</td>\n",
              "      <td>2019.0</td>\n",
              "      <td>REGULER</td>\n",
              "      <td>TIDAK ADA</td>\n",
              "      <td>TIDAK ADA</td>\n",
              "      <td>TIDAK</td>\n",
              "      <td>TIDAK ADA</td>\n",
              "      <td>TIDAK ADA</td>\n",
              "      <td>TIDAK ADA;;;;;;;;;;;;;;;;;;;;;;;;;</td>\n",
              "    </tr>\n",
              "  </tbody>\n",
              "</table>\n",
              "</div>\n",
              "      <button class=\"colab-df-convert\" onclick=\"convertToInteractive('df-7fd1685c-de3b-4ae0-8888-4dd54ea190af')\"\n",
              "              title=\"Convert this dataframe to an interactive table.\"\n",
              "              style=\"display:none;\">\n",
              "        \n",
              "  <svg xmlns=\"http://www.w3.org/2000/svg\" height=\"24px\"viewBox=\"0 0 24 24\"\n",
              "       width=\"24px\">\n",
              "    <path d=\"M0 0h24v24H0V0z\" fill=\"none\"/>\n",
              "    <path d=\"M18.56 5.44l.94 2.06.94-2.06 2.06-.94-2.06-.94-.94-2.06-.94 2.06-2.06.94zm-11 1L8.5 8.5l.94-2.06 2.06-.94-2.06-.94L8.5 2.5l-.94 2.06-2.06.94zm10 10l.94 2.06.94-2.06 2.06-.94-2.06-.94-.94-2.06-.94 2.06-2.06.94z\"/><path d=\"M17.41 7.96l-1.37-1.37c-.4-.4-.92-.59-1.43-.59-.52 0-1.04.2-1.43.59L10.3 9.45l-7.72 7.72c-.78.78-.78 2.05 0 2.83L4 21.41c.39.39.9.59 1.41.59.51 0 1.02-.2 1.41-.59l7.78-7.78 2.81-2.81c.8-.78.8-2.07 0-2.86zM5.41 20L4 18.59l7.72-7.72 1.47 1.35L5.41 20z\"/>\n",
              "  </svg>\n",
              "      </button>\n",
              "      \n",
              "  <style>\n",
              "    .colab-df-container {\n",
              "      display:flex;\n",
              "      flex-wrap:wrap;\n",
              "      gap: 12px;\n",
              "    }\n",
              "\n",
              "    .colab-df-convert {\n",
              "      background-color: #E8F0FE;\n",
              "      border: none;\n",
              "      border-radius: 50%;\n",
              "      cursor: pointer;\n",
              "      display: none;\n",
              "      fill: #1967D2;\n",
              "      height: 32px;\n",
              "      padding: 0 0 0 0;\n",
              "      width: 32px;\n",
              "    }\n",
              "\n",
              "    .colab-df-convert:hover {\n",
              "      background-color: #E2EBFA;\n",
              "      box-shadow: 0px 1px 2px rgba(60, 64, 67, 0.3), 0px 1px 3px 1px rgba(60, 64, 67, 0.15);\n",
              "      fill: #174EA6;\n",
              "    }\n",
              "\n",
              "    [theme=dark] .colab-df-convert {\n",
              "      background-color: #3B4455;\n",
              "      fill: #D2E3FC;\n",
              "    }\n",
              "\n",
              "    [theme=dark] .colab-df-convert:hover {\n",
              "      background-color: #434B5C;\n",
              "      box-shadow: 0px 1px 3px 1px rgba(0, 0, 0, 0.15);\n",
              "      filter: drop-shadow(0px 1px 2px rgba(0, 0, 0, 0.3));\n",
              "      fill: #FFFFFF;\n",
              "    }\n",
              "  </style>\n",
              "\n",
              "      <script>\n",
              "        const buttonEl =\n",
              "          document.querySelector('#df-7fd1685c-de3b-4ae0-8888-4dd54ea190af button.colab-df-convert');\n",
              "        buttonEl.style.display =\n",
              "          google.colab.kernel.accessAllowed ? 'block' : 'none';\n",
              "\n",
              "        async function convertToInteractive(key) {\n",
              "          const element = document.querySelector('#df-7fd1685c-de3b-4ae0-8888-4dd54ea190af');\n",
              "          const dataTable =\n",
              "            await google.colab.kernel.invokeFunction('convertToInteractive',\n",
              "                                                     [key], {});\n",
              "          if (!dataTable) return;\n",
              "\n",
              "          const docLinkHtml = 'Like what you see? Visit the ' +\n",
              "            '<a target=\"_blank\" href=https://colab.research.google.com/notebooks/data_table.ipynb>data table notebook</a>'\n",
              "            + ' to learn more about interactive tables.';\n",
              "          element.innerHTML = '';\n",
              "          dataTable['output_type'] = 'display_data';\n",
              "          await google.colab.output.renderOutput(dataTable, element);\n",
              "          const docLink = document.createElement('div');\n",
              "          docLink.innerHTML = docLinkHtml;\n",
              "          element.appendChild(docLink);\n",
              "        }\n",
              "      </script>\n",
              "    </div>\n",
              "  </div>\n",
              "  "
            ]
          },
          "metadata": {},
          "execution_count": 3
        }
      ]
    },
    {
      "cell_type": "code",
      "source": [
        "data.fillna(0)"
      ],
      "metadata": {
        "colab": {
          "base_uri": "https://localhost:8080/",
          "height": 488
        },
        "id": "XzQ05o6rMEFo",
        "outputId": "db53b668-d5b8-411f-d671-15ff2af3c46c"
      },
      "execution_count": null,
      "outputs": [
        {
          "output_type": "execute_result",
          "data": {
            "text/plain": [
              "                      id_ketua  id_anggota1  id_anggota2  id_anggota3  \\\n",
              "0                         7206       7214.0       6211.0       8602.0   \n",
              "1                         7214       7109.0       8402.0       7903.0   \n",
              "2                         5911       8201.0       8701.0       9101.0   \n",
              "3                         8402       7702.0       8602.0       8903.0   \n",
              "4                         8201       8305.0       5911.0       5903.0   \n",
              "..                         ...          ...          ...          ...   \n",
              "994  ;;;;;;;;;;;;;;;;;;;;;;;;;          0.0          0.0          0.0   \n",
              "995  ;;;;;;;;;;;;;;;;;;;;;;;;;          0.0          0.0          0.0   \n",
              "996  ;;;;;;;;;;;;;;;;;;;;;;;;;          0.0          0.0          0.0   \n",
              "997  ;;;;;;;;;;;;;;;;;;;;;;;;;          0.0          0.0          0.0   \n",
              "998  ;;;;;;;;;;;;;;;;;;;;;;;;;          0.0          0.0          0.0   \n",
              "\n",
              "     id_anggota4  id_anggota5 keterlibatan_vltr  jml_vltr_terlibat   tahun  \\\n",
              "0         7801.0          0.0             TIDAK                0.0  2019.0   \n",
              "1         9202.0          0.0             TIDAK                0.0  2019.0   \n",
              "2         9003.0          0.0             TIDAK                0.0  2019.0   \n",
              "3         8903.0          0.0             TIDAK                0.0  2019.0   \n",
              "4         8402.0          0.0             TIDAK                0.0  2019.0   \n",
              "..           ...          ...               ...                ...     ...   \n",
              "994          0.0          0.0                 0                0.0     0.0   \n",
              "995          0.0          0.0                 0                0.0     0.0   \n",
              "996          0.0          0.0                 0                0.0     0.0   \n",
              "997          0.0          0.0                 0                0.0     0.0   \n",
              "998          0.0          0.0                 0                0.0     0.0   \n",
              "\n",
              "       skema luaran_hki jenis_luaran_hki potensi_hki luaran_lain  \\\n",
              "0    REGULER  TIDAK ADA        TIDAK ADA       TIDAK   TIDAK ADA   \n",
              "1    REGULER  TIDAK ADA        TIDAK ADA       TIDAK   TIDAK ADA   \n",
              "2    REGULER  TIDAK ADA        TIDAK ADA       TIDAK   TIDAK ADA   \n",
              "3    REGULER  TIDAK ADA        TIDAK ADA       TIDAK   TIDAK ADA   \n",
              "4    REGULER  TIDAK ADA        TIDAK ADA       TIDAK   TIDAK ADA   \n",
              "..       ...        ...              ...         ...         ...   \n",
              "994        0          0                0           0           0   \n",
              "995        0          0                0           0           0   \n",
              "996        0          0                0           0           0   \n",
              "997        0          0                0           0           0   \n",
              "998        0          0                0           0           0   \n",
              "\n",
              "    jenis_luaran_lain status_luaran_lain;;;;;;;;;;;;;;;;;;;;;;;;;  \n",
              "0           TIDAK ADA          TIDAK ADA;;;;;;;;;;;;;;;;;;;;;;;;;  \n",
              "1           TIDAK ADA          TIDAK ADA;;;;;;;;;;;;;;;;;;;;;;;;;  \n",
              "2           TIDAK ADA          TIDAK ADA;;;;;;;;;;;;;;;;;;;;;;;;;  \n",
              "3           TIDAK ADA          TIDAK ADA;;;;;;;;;;;;;;;;;;;;;;;;;  \n",
              "4           TIDAK ADA          TIDAK ADA;;;;;;;;;;;;;;;;;;;;;;;;;  \n",
              "..                ...                                         ...  \n",
              "994                 0                                           0  \n",
              "995                 0                                           0  \n",
              "996                 0                                           0  \n",
              "997                 0                                           0  \n",
              "998                 0                                           0  \n",
              "\n",
              "[999 rows x 16 columns]"
            ],
            "text/html": [
              "\n",
              "  <div id=\"df-f25e4fe1-9cb6-4c1b-8965-2435987bdfac\">\n",
              "    <div class=\"colab-df-container\">\n",
              "      <div>\n",
              "<style scoped>\n",
              "    .dataframe tbody tr th:only-of-type {\n",
              "        vertical-align: middle;\n",
              "    }\n",
              "\n",
              "    .dataframe tbody tr th {\n",
              "        vertical-align: top;\n",
              "    }\n",
              "\n",
              "    .dataframe thead th {\n",
              "        text-align: right;\n",
              "    }\n",
              "</style>\n",
              "<table border=\"1\" class=\"dataframe\">\n",
              "  <thead>\n",
              "    <tr style=\"text-align: right;\">\n",
              "      <th></th>\n",
              "      <th>id_ketua</th>\n",
              "      <th>id_anggota1</th>\n",
              "      <th>id_anggota2</th>\n",
              "      <th>id_anggota3</th>\n",
              "      <th>id_anggota4</th>\n",
              "      <th>id_anggota5</th>\n",
              "      <th>keterlibatan_vltr</th>\n",
              "      <th>jml_vltr_terlibat</th>\n",
              "      <th>tahun</th>\n",
              "      <th>skema</th>\n",
              "      <th>luaran_hki</th>\n",
              "      <th>jenis_luaran_hki</th>\n",
              "      <th>potensi_hki</th>\n",
              "      <th>luaran_lain</th>\n",
              "      <th>jenis_luaran_lain</th>\n",
              "      <th>status_luaran_lain;;;;;;;;;;;;;;;;;;;;;;;;;</th>\n",
              "    </tr>\n",
              "  </thead>\n",
              "  <tbody>\n",
              "    <tr>\n",
              "      <th>0</th>\n",
              "      <td>7206</td>\n",
              "      <td>7214.0</td>\n",
              "      <td>6211.0</td>\n",
              "      <td>8602.0</td>\n",
              "      <td>7801.0</td>\n",
              "      <td>0.0</td>\n",
              "      <td>TIDAK</td>\n",
              "      <td>0.0</td>\n",
              "      <td>2019.0</td>\n",
              "      <td>REGULER</td>\n",
              "      <td>TIDAK ADA</td>\n",
              "      <td>TIDAK ADA</td>\n",
              "      <td>TIDAK</td>\n",
              "      <td>TIDAK ADA</td>\n",
              "      <td>TIDAK ADA</td>\n",
              "      <td>TIDAK ADA;;;;;;;;;;;;;;;;;;;;;;;;;</td>\n",
              "    </tr>\n",
              "    <tr>\n",
              "      <th>1</th>\n",
              "      <td>7214</td>\n",
              "      <td>7109.0</td>\n",
              "      <td>8402.0</td>\n",
              "      <td>7903.0</td>\n",
              "      <td>9202.0</td>\n",
              "      <td>0.0</td>\n",
              "      <td>TIDAK</td>\n",
              "      <td>0.0</td>\n",
              "      <td>2019.0</td>\n",
              "      <td>REGULER</td>\n",
              "      <td>TIDAK ADA</td>\n",
              "      <td>TIDAK ADA</td>\n",
              "      <td>TIDAK</td>\n",
              "      <td>TIDAK ADA</td>\n",
              "      <td>TIDAK ADA</td>\n",
              "      <td>TIDAK ADA;;;;;;;;;;;;;;;;;;;;;;;;;</td>\n",
              "    </tr>\n",
              "    <tr>\n",
              "      <th>2</th>\n",
              "      <td>5911</td>\n",
              "      <td>8201.0</td>\n",
              "      <td>8701.0</td>\n",
              "      <td>9101.0</td>\n",
              "      <td>9003.0</td>\n",
              "      <td>0.0</td>\n",
              "      <td>TIDAK</td>\n",
              "      <td>0.0</td>\n",
              "      <td>2019.0</td>\n",
              "      <td>REGULER</td>\n",
              "      <td>TIDAK ADA</td>\n",
              "      <td>TIDAK ADA</td>\n",
              "      <td>TIDAK</td>\n",
              "      <td>TIDAK ADA</td>\n",
              "      <td>TIDAK ADA</td>\n",
              "      <td>TIDAK ADA;;;;;;;;;;;;;;;;;;;;;;;;;</td>\n",
              "    </tr>\n",
              "    <tr>\n",
              "      <th>3</th>\n",
              "      <td>8402</td>\n",
              "      <td>7702.0</td>\n",
              "      <td>8602.0</td>\n",
              "      <td>8903.0</td>\n",
              "      <td>8903.0</td>\n",
              "      <td>0.0</td>\n",
              "      <td>TIDAK</td>\n",
              "      <td>0.0</td>\n",
              "      <td>2019.0</td>\n",
              "      <td>REGULER</td>\n",
              "      <td>TIDAK ADA</td>\n",
              "      <td>TIDAK ADA</td>\n",
              "      <td>TIDAK</td>\n",
              "      <td>TIDAK ADA</td>\n",
              "      <td>TIDAK ADA</td>\n",
              "      <td>TIDAK ADA;;;;;;;;;;;;;;;;;;;;;;;;;</td>\n",
              "    </tr>\n",
              "    <tr>\n",
              "      <th>4</th>\n",
              "      <td>8201</td>\n",
              "      <td>8305.0</td>\n",
              "      <td>5911.0</td>\n",
              "      <td>5903.0</td>\n",
              "      <td>8402.0</td>\n",
              "      <td>0.0</td>\n",
              "      <td>TIDAK</td>\n",
              "      <td>0.0</td>\n",
              "      <td>2019.0</td>\n",
              "      <td>REGULER</td>\n",
              "      <td>TIDAK ADA</td>\n",
              "      <td>TIDAK ADA</td>\n",
              "      <td>TIDAK</td>\n",
              "      <td>TIDAK ADA</td>\n",
              "      <td>TIDAK ADA</td>\n",
              "      <td>TIDAK ADA;;;;;;;;;;;;;;;;;;;;;;;;;</td>\n",
              "    </tr>\n",
              "    <tr>\n",
              "      <th>...</th>\n",
              "      <td>...</td>\n",
              "      <td>...</td>\n",
              "      <td>...</td>\n",
              "      <td>...</td>\n",
              "      <td>...</td>\n",
              "      <td>...</td>\n",
              "      <td>...</td>\n",
              "      <td>...</td>\n",
              "      <td>...</td>\n",
              "      <td>...</td>\n",
              "      <td>...</td>\n",
              "      <td>...</td>\n",
              "      <td>...</td>\n",
              "      <td>...</td>\n",
              "      <td>...</td>\n",
              "      <td>...</td>\n",
              "    </tr>\n",
              "    <tr>\n",
              "      <th>994</th>\n",
              "      <td>;;;;;;;;;;;;;;;;;;;;;;;;;</td>\n",
              "      <td>0.0</td>\n",
              "      <td>0.0</td>\n",
              "      <td>0.0</td>\n",
              "      <td>0.0</td>\n",
              "      <td>0.0</td>\n",
              "      <td>0</td>\n",
              "      <td>0.0</td>\n",
              "      <td>0.0</td>\n",
              "      <td>0</td>\n",
              "      <td>0</td>\n",
              "      <td>0</td>\n",
              "      <td>0</td>\n",
              "      <td>0</td>\n",
              "      <td>0</td>\n",
              "      <td>0</td>\n",
              "    </tr>\n",
              "    <tr>\n",
              "      <th>995</th>\n",
              "      <td>;;;;;;;;;;;;;;;;;;;;;;;;;</td>\n",
              "      <td>0.0</td>\n",
              "      <td>0.0</td>\n",
              "      <td>0.0</td>\n",
              "      <td>0.0</td>\n",
              "      <td>0.0</td>\n",
              "      <td>0</td>\n",
              "      <td>0.0</td>\n",
              "      <td>0.0</td>\n",
              "      <td>0</td>\n",
              "      <td>0</td>\n",
              "      <td>0</td>\n",
              "      <td>0</td>\n",
              "      <td>0</td>\n",
              "      <td>0</td>\n",
              "      <td>0</td>\n",
              "    </tr>\n",
              "    <tr>\n",
              "      <th>996</th>\n",
              "      <td>;;;;;;;;;;;;;;;;;;;;;;;;;</td>\n",
              "      <td>0.0</td>\n",
              "      <td>0.0</td>\n",
              "      <td>0.0</td>\n",
              "      <td>0.0</td>\n",
              "      <td>0.0</td>\n",
              "      <td>0</td>\n",
              "      <td>0.0</td>\n",
              "      <td>0.0</td>\n",
              "      <td>0</td>\n",
              "      <td>0</td>\n",
              "      <td>0</td>\n",
              "      <td>0</td>\n",
              "      <td>0</td>\n",
              "      <td>0</td>\n",
              "      <td>0</td>\n",
              "    </tr>\n",
              "    <tr>\n",
              "      <th>997</th>\n",
              "      <td>;;;;;;;;;;;;;;;;;;;;;;;;;</td>\n",
              "      <td>0.0</td>\n",
              "      <td>0.0</td>\n",
              "      <td>0.0</td>\n",
              "      <td>0.0</td>\n",
              "      <td>0.0</td>\n",
              "      <td>0</td>\n",
              "      <td>0.0</td>\n",
              "      <td>0.0</td>\n",
              "      <td>0</td>\n",
              "      <td>0</td>\n",
              "      <td>0</td>\n",
              "      <td>0</td>\n",
              "      <td>0</td>\n",
              "      <td>0</td>\n",
              "      <td>0</td>\n",
              "    </tr>\n",
              "    <tr>\n",
              "      <th>998</th>\n",
              "      <td>;;;;;;;;;;;;;;;;;;;;;;;;;</td>\n",
              "      <td>0.0</td>\n",
              "      <td>0.0</td>\n",
              "      <td>0.0</td>\n",
              "      <td>0.0</td>\n",
              "      <td>0.0</td>\n",
              "      <td>0</td>\n",
              "      <td>0.0</td>\n",
              "      <td>0.0</td>\n",
              "      <td>0</td>\n",
              "      <td>0</td>\n",
              "      <td>0</td>\n",
              "      <td>0</td>\n",
              "      <td>0</td>\n",
              "      <td>0</td>\n",
              "      <td>0</td>\n",
              "    </tr>\n",
              "  </tbody>\n",
              "</table>\n",
              "<p>999 rows × 16 columns</p>\n",
              "</div>\n",
              "      <button class=\"colab-df-convert\" onclick=\"convertToInteractive('df-f25e4fe1-9cb6-4c1b-8965-2435987bdfac')\"\n",
              "              title=\"Convert this dataframe to an interactive table.\"\n",
              "              style=\"display:none;\">\n",
              "        \n",
              "  <svg xmlns=\"http://www.w3.org/2000/svg\" height=\"24px\"viewBox=\"0 0 24 24\"\n",
              "       width=\"24px\">\n",
              "    <path d=\"M0 0h24v24H0V0z\" fill=\"none\"/>\n",
              "    <path d=\"M18.56 5.44l.94 2.06.94-2.06 2.06-.94-2.06-.94-.94-2.06-.94 2.06-2.06.94zm-11 1L8.5 8.5l.94-2.06 2.06-.94-2.06-.94L8.5 2.5l-.94 2.06-2.06.94zm10 10l.94 2.06.94-2.06 2.06-.94-2.06-.94-.94-2.06-.94 2.06-2.06.94z\"/><path d=\"M17.41 7.96l-1.37-1.37c-.4-.4-.92-.59-1.43-.59-.52 0-1.04.2-1.43.59L10.3 9.45l-7.72 7.72c-.78.78-.78 2.05 0 2.83L4 21.41c.39.39.9.59 1.41.59.51 0 1.02-.2 1.41-.59l7.78-7.78 2.81-2.81c.8-.78.8-2.07 0-2.86zM5.41 20L4 18.59l7.72-7.72 1.47 1.35L5.41 20z\"/>\n",
              "  </svg>\n",
              "      </button>\n",
              "      \n",
              "  <style>\n",
              "    .colab-df-container {\n",
              "      display:flex;\n",
              "      flex-wrap:wrap;\n",
              "      gap: 12px;\n",
              "    }\n",
              "\n",
              "    .colab-df-convert {\n",
              "      background-color: #E8F0FE;\n",
              "      border: none;\n",
              "      border-radius: 50%;\n",
              "      cursor: pointer;\n",
              "      display: none;\n",
              "      fill: #1967D2;\n",
              "      height: 32px;\n",
              "      padding: 0 0 0 0;\n",
              "      width: 32px;\n",
              "    }\n",
              "\n",
              "    .colab-df-convert:hover {\n",
              "      background-color: #E2EBFA;\n",
              "      box-shadow: 0px 1px 2px rgba(60, 64, 67, 0.3), 0px 1px 3px 1px rgba(60, 64, 67, 0.15);\n",
              "      fill: #174EA6;\n",
              "    }\n",
              "\n",
              "    [theme=dark] .colab-df-convert {\n",
              "      background-color: #3B4455;\n",
              "      fill: #D2E3FC;\n",
              "    }\n",
              "\n",
              "    [theme=dark] .colab-df-convert:hover {\n",
              "      background-color: #434B5C;\n",
              "      box-shadow: 0px 1px 3px 1px rgba(0, 0, 0, 0.15);\n",
              "      filter: drop-shadow(0px 1px 2px rgba(0, 0, 0, 0.3));\n",
              "      fill: #FFFFFF;\n",
              "    }\n",
              "  </style>\n",
              "\n",
              "      <script>\n",
              "        const buttonEl =\n",
              "          document.querySelector('#df-f25e4fe1-9cb6-4c1b-8965-2435987bdfac button.colab-df-convert');\n",
              "        buttonEl.style.display =\n",
              "          google.colab.kernel.accessAllowed ? 'block' : 'none';\n",
              "\n",
              "        async function convertToInteractive(key) {\n",
              "          const element = document.querySelector('#df-f25e4fe1-9cb6-4c1b-8965-2435987bdfac');\n",
              "          const dataTable =\n",
              "            await google.colab.kernel.invokeFunction('convertToInteractive',\n",
              "                                                     [key], {});\n",
              "          if (!dataTable) return;\n",
              "\n",
              "          const docLinkHtml = 'Like what you see? Visit the ' +\n",
              "            '<a target=\"_blank\" href=https://colab.research.google.com/notebooks/data_table.ipynb>data table notebook</a>'\n",
              "            + ' to learn more about interactive tables.';\n",
              "          element.innerHTML = '';\n",
              "          dataTable['output_type'] = 'display_data';\n",
              "          await google.colab.output.renderOutput(dataTable, element);\n",
              "          const docLink = document.createElement('div');\n",
              "          docLink.innerHTML = docLinkHtml;\n",
              "          element.appendChild(docLink);\n",
              "        }\n",
              "      </script>\n",
              "    </div>\n",
              "  </div>\n",
              "  "
            ]
          },
          "metadata": {},
          "execution_count": 4
        }
      ]
    },
    {
      "cell_type": "code",
      "source": [
        "data.dtypes"
      ],
      "metadata": {
        "colab": {
          "base_uri": "https://localhost:8080/"
        },
        "id": "uhQFjUcdMHur",
        "outputId": "31a493f8-31b6-49ec-e4d0-6d3d90c0deb3"
      },
      "execution_count": null,
      "outputs": [
        {
          "output_type": "execute_result",
          "data": {
            "text/plain": [
              "id_ketua                                        object\n",
              "id_anggota1                                    float64\n",
              "id_anggota2                                    float64\n",
              "id_anggota3                                    float64\n",
              "id_anggota4                                    float64\n",
              "id_anggota5                                    float64\n",
              "keterlibatan_vltr                               object\n",
              "jml_vltr_terlibat                              float64\n",
              "tahun                                          float64\n",
              "skema                                           object\n",
              "luaran_hki                                      object\n",
              "jenis_luaran_hki                                object\n",
              "potensi_hki                                     object\n",
              "luaran_lain                                     object\n",
              "jenis_luaran_lain                               object\n",
              "status_luaran_lain;;;;;;;;;;;;;;;;;;;;;;;;;     object\n",
              "dtype: object"
            ]
          },
          "metadata": {},
          "execution_count": 5
        }
      ]
    },
    {
      "cell_type": "code",
      "source": [
        "data.pivot_table('jml_vltr_terlibat', ['skema'], aggfunc='sum').reset_index()"
      ],
      "metadata": {
        "colab": {
          "base_uri": "https://localhost:8080/",
          "height": 112
        },
        "id": "zy3FsAuBMKw2",
        "outputId": "6eb20bd2-a81a-4503-ec88-b7310a344d49"
      },
      "execution_count": null,
      "outputs": [
        {
          "output_type": "execute_result",
          "data": {
            "text/plain": [
              "       skema  jml_vltr_terlibat\n",
              "0  KEMITRAAN                7.0\n",
              "1    REGULER              107.0"
            ],
            "text/html": [
              "\n",
              "  <div id=\"df-1e1b577c-6cde-45db-af3c-75a85ba118fe\">\n",
              "    <div class=\"colab-df-container\">\n",
              "      <div>\n",
              "<style scoped>\n",
              "    .dataframe tbody tr th:only-of-type {\n",
              "        vertical-align: middle;\n",
              "    }\n",
              "\n",
              "    .dataframe tbody tr th {\n",
              "        vertical-align: top;\n",
              "    }\n",
              "\n",
              "    .dataframe thead th {\n",
              "        text-align: right;\n",
              "    }\n",
              "</style>\n",
              "<table border=\"1\" class=\"dataframe\">\n",
              "  <thead>\n",
              "    <tr style=\"text-align: right;\">\n",
              "      <th></th>\n",
              "      <th>skema</th>\n",
              "      <th>jml_vltr_terlibat</th>\n",
              "    </tr>\n",
              "  </thead>\n",
              "  <tbody>\n",
              "    <tr>\n",
              "      <th>0</th>\n",
              "      <td>KEMITRAAN</td>\n",
              "      <td>7.0</td>\n",
              "    </tr>\n",
              "    <tr>\n",
              "      <th>1</th>\n",
              "      <td>REGULER</td>\n",
              "      <td>107.0</td>\n",
              "    </tr>\n",
              "  </tbody>\n",
              "</table>\n",
              "</div>\n",
              "      <button class=\"colab-df-convert\" onclick=\"convertToInteractive('df-1e1b577c-6cde-45db-af3c-75a85ba118fe')\"\n",
              "              title=\"Convert this dataframe to an interactive table.\"\n",
              "              style=\"display:none;\">\n",
              "        \n",
              "  <svg xmlns=\"http://www.w3.org/2000/svg\" height=\"24px\"viewBox=\"0 0 24 24\"\n",
              "       width=\"24px\">\n",
              "    <path d=\"M0 0h24v24H0V0z\" fill=\"none\"/>\n",
              "    <path d=\"M18.56 5.44l.94 2.06.94-2.06 2.06-.94-2.06-.94-.94-2.06-.94 2.06-2.06.94zm-11 1L8.5 8.5l.94-2.06 2.06-.94-2.06-.94L8.5 2.5l-.94 2.06-2.06.94zm10 10l.94 2.06.94-2.06 2.06-.94-2.06-.94-.94-2.06-.94 2.06-2.06.94z\"/><path d=\"M17.41 7.96l-1.37-1.37c-.4-.4-.92-.59-1.43-.59-.52 0-1.04.2-1.43.59L10.3 9.45l-7.72 7.72c-.78.78-.78 2.05 0 2.83L4 21.41c.39.39.9.59 1.41.59.51 0 1.02-.2 1.41-.59l7.78-7.78 2.81-2.81c.8-.78.8-2.07 0-2.86zM5.41 20L4 18.59l7.72-7.72 1.47 1.35L5.41 20z\"/>\n",
              "  </svg>\n",
              "      </button>\n",
              "      \n",
              "  <style>\n",
              "    .colab-df-container {\n",
              "      display:flex;\n",
              "      flex-wrap:wrap;\n",
              "      gap: 12px;\n",
              "    }\n",
              "\n",
              "    .colab-df-convert {\n",
              "      background-color: #E8F0FE;\n",
              "      border: none;\n",
              "      border-radius: 50%;\n",
              "      cursor: pointer;\n",
              "      display: none;\n",
              "      fill: #1967D2;\n",
              "      height: 32px;\n",
              "      padding: 0 0 0 0;\n",
              "      width: 32px;\n",
              "    }\n",
              "\n",
              "    .colab-df-convert:hover {\n",
              "      background-color: #E2EBFA;\n",
              "      box-shadow: 0px 1px 2px rgba(60, 64, 67, 0.3), 0px 1px 3px 1px rgba(60, 64, 67, 0.15);\n",
              "      fill: #174EA6;\n",
              "    }\n",
              "\n",
              "    [theme=dark] .colab-df-convert {\n",
              "      background-color: #3B4455;\n",
              "      fill: #D2E3FC;\n",
              "    }\n",
              "\n",
              "    [theme=dark] .colab-df-convert:hover {\n",
              "      background-color: #434B5C;\n",
              "      box-shadow: 0px 1px 3px 1px rgba(0, 0, 0, 0.15);\n",
              "      filter: drop-shadow(0px 1px 2px rgba(0, 0, 0, 0.3));\n",
              "      fill: #FFFFFF;\n",
              "    }\n",
              "  </style>\n",
              "\n",
              "      <script>\n",
              "        const buttonEl =\n",
              "          document.querySelector('#df-1e1b577c-6cde-45db-af3c-75a85ba118fe button.colab-df-convert');\n",
              "        buttonEl.style.display =\n",
              "          google.colab.kernel.accessAllowed ? 'block' : 'none';\n",
              "\n",
              "        async function convertToInteractive(key) {\n",
              "          const element = document.querySelector('#df-1e1b577c-6cde-45db-af3c-75a85ba118fe');\n",
              "          const dataTable =\n",
              "            await google.colab.kernel.invokeFunction('convertToInteractive',\n",
              "                                                     [key], {});\n",
              "          if (!dataTable) return;\n",
              "\n",
              "          const docLinkHtml = 'Like what you see? Visit the ' +\n",
              "            '<a target=\"_blank\" href=https://colab.research.google.com/notebooks/data_table.ipynb>data table notebook</a>'\n",
              "            + ' to learn more about interactive tables.';\n",
              "          element.innerHTML = '';\n",
              "          dataTable['output_type'] = 'display_data';\n",
              "          await google.colab.output.renderOutput(dataTable, element);\n",
              "          const docLink = document.createElement('div');\n",
              "          docLink.innerHTML = docLinkHtml;\n",
              "          element.appendChild(docLink);\n",
              "        }\n",
              "      </script>\n",
              "    </div>\n",
              "  </div>\n",
              "  "
            ]
          },
          "metadata": {},
          "execution_count": 7
        }
      ]
    },
    {
      "cell_type": "markdown",
      "source": [
        "**NO 2 - VISUALISASI**"
      ],
      "metadata": {
        "id": "C-MmSRJDMbn3"
      }
    },
    {
      "cell_type": "code",
      "source": [
        "data.groupby('skema').jml_vltr_terlibat.sum().plot.bar()"
      ],
      "metadata": {
        "colab": {
          "base_uri": "https://localhost:8080/",
          "height": 345
        },
        "id": "6H-gDcJ9MdhZ",
        "outputId": "c4375dd2-888b-4488-f35d-69081cdb41d7"
      },
      "execution_count": null,
      "outputs": [
        {
          "output_type": "execute_result",
          "data": {
            "text/plain": [
              "<matplotlib.axes._subplots.AxesSubplot at 0x7f15b2310b10>"
            ]
          },
          "metadata": {},
          "execution_count": 8
        },
        {
          "output_type": "display_data",
          "data": {
            "text/plain": [
              "<Figure size 432x288 with 1 Axes>"
            ],
            "image/png": "[encoded data removed]"
          },
          "metadata": {
            "needs_background": "light"
          }
        }
      ]
    },
    {
      "cell_type": "code",
      "source": [
        "data.groupby('skema').jml_vltr_terlibat.sum().plot.line()"
      ],
      "metadata": {
        "colab": {
          "base_uri": "https://localhost:8080/",
          "height": 296
        },
        "id": "8x_QXkTnMiD2",
        "outputId": "2e538da9-4ac8-4fd6-8fa3-52173cccd1fe"
      },
      "execution_count": null,
      "outputs": [
        {
          "output_type": "execute_result",
          "data": {
            "text/plain": [
              "<matplotlib.axes._subplots.AxesSubplot at 0x7f15a1828110>"
            ]
          },
          "metadata": {},
          "execution_count": 10
        },
        {
          "output_type": "display_data",
          "data": {
            "text/plain": [
              "<Figure size 432x288 with 1 Axes>"
            ],
            "image/png": "[encoded data removed]"
          },
          "metadata": {
            "needs_background": "light"
          }
        }
      ]
    },
    {
      "cell_type": "markdown",
      "source": [
        "**NO 3 - DATA TRAINING & DATA SET**"
      ],
      "metadata": {
        "id": "SzRqyCCPMpyE"
      }
    },
    {
      "cell_type": "code",
      "source": [
        "y = data['keterlibatan_vltr'].map({'YA':1, 'TIDAK':0})\n",
        "X1 = data['luaran_lain'].map({'TIDAK ADA':0, 'YA':1})\n",
        "X2 = data['status_luaran_lain;;;;;;;;;;;;;;;;;;;;;;;;;'].map({'Draft':1, 'Terpublikasi':1, 'TIDAK ADA':0})\n",
        "\n",
        "v1=[]\n",
        "v2=[]\n",
        "for x1 in X1:\n",
        "  v1.append(x1)\n",
        "for x2 in X2:\n",
        "  v2.append(x2)\n",
        "\n",
        "X = pd.DataFrame()\n",
        "\n",
        "X['luaran_lain'] = v1\n",
        "X['status_luaran_lain;;;;;;;;;;;;;;;;;;;;;;;;;'] = v2\n",
        "print(X)"
      ],
      "metadata": {
        "colab": {
          "base_uri": "https://localhost:8080/"
        },
        "id": "0Rrf2dGEMu-U",
        "outputId": "0a9c4d58-d670-4dc8-a054-6e55ccce075e"
      },
      "execution_count": null,
      "outputs": [
        {
          "output_type": "stream",
          "name": "stdout",
          "text": [
            "     luaran_lain  status_luaran_lain;;;;;;;;;;;;;;;;;;;;;;;;;\n",
            "0            0.0                                          NaN\n",
            "1            0.0                                          NaN\n",
            "2            0.0                                          NaN\n",
            "3            0.0                                          NaN\n",
            "4            0.0                                          NaN\n",
            "..           ...                                          ...\n",
            "994          NaN                                          NaN\n",
            "995          NaN                                          NaN\n",
            "996          NaN                                          NaN\n",
            "997          NaN                                          NaN\n",
            "998          NaN                                          NaN\n",
            "\n",
            "[999 rows x 2 columns]\n"
          ]
        }
      ]
    },
    {
      "cell_type": "code",
      "source": [
        "from sklearn.model_selection import train_test_split\n",
        "\n",
        "X_train, X_test, y_train, y_test = train_test_split(X, y, test_size=0.2, random_state=1)"
      ],
      "metadata": {
        "id": "Iw5Xb8PpM-JR"
      },
      "execution_count": null,
      "outputs": []
    },
    {
      "cell_type": "markdown",
      "source": [
        "**NO 5 - PREDIKSI**"
      ],
      "metadata": {
        "id": "FwtMAoz8NF6V"
      }
    },
    {
      "cell_type": "code",
      "source": [
        "from sklearn.preprocessing import StandardScaler\n",
        "\n",
        "scaler = StandardScaler()"
      ],
      "metadata": {
        "id": "XbHaaTE1NJYH"
      },
      "execution_count": null,
      "outputs": []
    },
    {
      "cell_type": "code",
      "source": [
        "scaler.fit(X_train)"
      ],
      "metadata": {
        "colab": {
          "base_uri": "https://localhost:8080/"
        },
        "id": "vxFs7U9-Nv_k",
        "outputId": "c65fac71-a198-49f6-d767-76f691572156"
      },
      "execution_count": null,
      "outputs": [
        {
          "output_type": "stream",
          "name": "stderr",
          "text": [
            "/usr/local/lib/python3.7/dist-packages/sklearn/utils/extmath.py:985: RuntimeWarning: invalid value encountered in true_divide\n",
            "  updated_mean = (last_sum + new_sum) / updated_sample_count\n",
            "/usr/local/lib/python3.7/dist-packages/sklearn/utils/extmath.py:990: RuntimeWarning: invalid value encountered in true_divide\n",
            "  T = new_sum / new_sample_count\n",
            "/usr/local/lib/python3.7/dist-packages/sklearn/utils/extmath.py:1020: RuntimeWarning: invalid value encountered in true_divide\n",
            "  new_unnormalized_variance -= correction ** 2 / new_sample_count\n"
          ]
        },
        {
          "output_type": "execute_result",
          "data": {
            "text/plain": [
              "StandardScaler()"
            ]
          },
          "metadata": {},
          "execution_count": 23
        }
      ]
    },
    {
      "cell_type": "code",
      "source": [
        "StandardScaler(copy=True, with_mean=True, with_std=True)\n",
        "\n",
        "X_train = scaler.transform(X_train)\n",
        "X_test = scaler.transform(X_test)"
      ],
      "metadata": {
        "id": "pP6eeD3MN0K8"
      },
      "execution_count": null,
      "outputs": []
    },
    {
      "cell_type": "code",
      "source": [
        "from sklearn.neural_network import MLPClassifier"
      ],
      "metadata": {
        "id": "4CB-_GlIOxgI"
      },
      "execution_count": null,
      "outputs": []
    },
    {
      "cell_type": "code",
      "source": [
        "mlp = MLPClassifier(hidden_layer_sizes=(13,13,13),max_iter=500)\n",
        "mlp.fit(X_train,y_train)"
      ],
      "metadata": {
        "id": "JfduF3BwWBdV"
      },
      "execution_count": null,
      "outputs": []
    },
    {
      "cell_type": "code",
      "source": [
        "predictions = mlp.predict(X_test)\n",
        "\n",
        "acc_rf = accuracy_score(y_test, y_pred_rf)\n",
        "print(\"Test set accuracy: {:.2f}\".format(acc_rf))\n",
        "print(f\"Test set accuracy: {acc_rf}\")"
      ],
      "metadata": {
        "id": "4jVrXjHJWCEA"
      },
      "execution_count": null,
      "outputs": []
    },
    {
      "cell_type": "markdown",
      "source": [
        "**NO 6 - CONFUSION MATRIX**"
      ],
      "metadata": {
        "id": "JvFmrlzaWFJK"
      }
    },
    {
      "cell_type": "code",
      "source": [
        "from sklearn.metrics import classification_report, confusion_matrix\n",
        "\n",
        "print(confusion_matrix(y_test, predictions))\n",
        "print(classification_report(y_test, predictions))"
      ],
      "metadata": {
        "id": "fCouJ1HXWNUC"
      },
      "execution_count": null,
      "outputs": []
    },
    {
      "cell_type": "markdown",
      "source": [
        "**NO 7 - RANDOM SEARCH**"
      ],
      "metadata": {
        "id": "Ft28NWYwOA1o"
      }
    },
    {
      "cell_type": "code",
      "source": [
        "from sklearn.model_selection import RepeatedKFold\n",
        "\n",
        "cv = RepeatedKFold(n_splits=4, n_repeats=3, random_state=42)"
      ],
      "metadata": {
        "id": "8_HuJ_F1OE9w"
      },
      "execution_count": null,
      "outputs": []
    },
    {
      "cell_type": "code",
      "source": [
        "from sklearn.tree import DecisionTreeClassifier\n",
        "from sklearn.model_selection import RandomizedSearchCV\n",
        "\n",
        "dt = DecisionTreeClassifier()\n",
        "\n",
        "params = {\n",
        "    'criterion': ['gini', 'entropy'],\n",
        "    'max_depth': list(range(5,11))\n",
        "}\n",
        "\n",
        "random = RandomizedSearchCV(dt, params, cv=cv)\n",
        "\n",
        "%timeit random.fit(X, y)\n",
        "\n",
        "score = random.score(X,y)\n",
        "\n",
        "print(f'Hasil evaluasi: {score}')\n",
        "print(f'Konfigurasi hyperparameter: {random.best_params_}')"
      ],
      "metadata": {
        "id": "N5iFe_O9WWaA"
      },
      "execution_count": null,
      "outputs": []
    },
    {
      "cell_type": "markdown",
      "source": [
        "**GRID SEARCH**"
      ],
      "metadata": {
        "id": "cf2L-DxEWXmH"
      }
    },
    {
      "cell_type": "code",
      "source": [
        "from sklearn.model_selection import GridSearchCV\n",
        "\n",
        "params = {\n",
        "    'criterion': ['gini', 'entropy'],\n",
        "    'max_depth': list(range(5,11))\n",
        "}\n",
        "\n",
        "grid = GridSearchCV(dt, param_grid=params, cv=cv)\n",
        "\n",
        "%timeit grid.fit(X, y)\n",
        "\n",
        "score = grid.score(X,y)\n",
        "\n",
        "print(f'Hasil evaluasi: {score}')\n",
        "print(f'Konfigurasi hyperparameter: {grid.best_params_}')"
      ],
      "metadata": {
        "id": "VUoEkoIBWaW6"
      },
      "execution_count": null,
      "outputs": []
    },
    {
      "cell_type": "markdown",
      "source": [
        "**MLP CLASSIFIER**"
      ],
      "metadata": {
        "id": "J_4R6eYGWdyM"
      }
    },
    {
      "cell_type": "code",
      "source": [
        "fig, axes = plt.subplots(4, 4)\n",
        "vmin, vmax = mlp.coefs_[0].min(), mlp.coefs_[0].max()\n",
        "\n",
        "plt.show()"
      ],
      "metadata": {
        "colab": {
          "base_uri": "https://localhost:8080/",
          "height": 469
        },
        "id": "ncQfQIyGOXcD",
        "outputId": "f95fc885-3f40-4e4a-d168-7a0e949a95cb"
      },
      "execution_count": null,
      "outputs": [
        {
          "output_type": "error",
          "ename": "AttributeError",
          "evalue": "ignored",
          "traceback": [
            "\u001b[0;31m---------------------------------------------------------------------------\u001b[0m",
            "\u001b[0;31mAttributeError\u001b[0m                            Traceback (most recent call last)",
            "\u001b[0;32m<ipython-input-38-d88cbe654800>\u001b[0m in \u001b[0;36m<module>\u001b[0;34m\u001b[0m\n\u001b[1;32m      1\u001b[0m \u001b[0mfig\u001b[0m\u001b[0;34m,\u001b[0m \u001b[0maxes\u001b[0m \u001b[0;34m=\u001b[0m \u001b[0mplt\u001b[0m\u001b[0;34m.\u001b[0m\u001b[0msubplots\u001b[0m\u001b[0;34m(\u001b[0m\u001b[0;36m4\u001b[0m\u001b[0;34m,\u001b[0m \u001b[0;36m4\u001b[0m\u001b[0;34m)\u001b[0m\u001b[0;34m\u001b[0m\u001b[0;34m\u001b[0m\u001b[0m\n\u001b[0;32m----> 2\u001b[0;31m \u001b[0mvmin\u001b[0m\u001b[0;34m,\u001b[0m \u001b[0mvmax\u001b[0m \u001b[0;34m=\u001b[0m \u001b[0mmlp\u001b[0m\u001b[0;34m.\u001b[0m\u001b[0mcoefs_\u001b[0m\u001b[0;34m[\u001b[0m\u001b[0;36m0\u001b[0m\u001b[0;34m]\u001b[0m\u001b[0;34m.\u001b[0m\u001b[0mmin\u001b[0m\u001b[0;34m(\u001b[0m\u001b[0;34m)\u001b[0m\u001b[0;34m,\u001b[0m \u001b[0mmlp\u001b[0m\u001b[0;34m.\u001b[0m\u001b[0mcoefs_\u001b[0m\u001b[0;34m[\u001b[0m\u001b[0;36m0\u001b[0m\u001b[0;34m]\u001b[0m\u001b[0;34m.\u001b[0m\u001b[0mmax\u001b[0m\u001b[0;34m(\u001b[0m\u001b[0;34m)\u001b[0m\u001b[0;34m\u001b[0m\u001b[0;34m\u001b[0m\u001b[0m\n\u001b[0m\u001b[1;32m      3\u001b[0m \u001b[0;34m\u001b[0m\u001b[0m\n\u001b[1;32m      4\u001b[0m \u001b[0mplt\u001b[0m\u001b[0;34m.\u001b[0m\u001b[0mshow\u001b[0m\u001b[0;34m(\u001b[0m\u001b[0;34m)\u001b[0m\u001b[0;34m\u001b[0m\u001b[0;34m\u001b[0m\u001b[0m\n",
            "\u001b[0;31mAttributeError\u001b[0m: 'MLPClassifier' object has no attribute 'coefs_'"
          ]
        },
        {
          "output_type": "display_data",
          "data": {
            "text/plain": [
              "<Figure size 432x288 with 16 Axes>"
            ],
            "image/png": "[encoded data removed]"
          },
          "metadata": {
            "needs_background": "light"
          }
        }
      ]
    }
  ]
}